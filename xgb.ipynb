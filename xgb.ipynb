{
 "cells": [
  {
   "cell_type": "markdown",
   "id": "6eefa46b",
   "metadata": {
    "papermill": {
     "duration": 0.003183,
     "end_time": "2022-06-15T17:34:27.463843",
     "exception": false,
     "start_time": "2022-06-15T17:34:27.460660",
     "status": "completed"
    },
    "tags": []
   },
   "source": [
    "# Imputation using XGB\n",
    "\n",
    "Combine iterative imputation with XGB\n",
    "- use XGB as base estimator for iterative imputation\n"
   ]
  },
  {
   "cell_type": "code",
   "execution_count": 20,
   "id": "54d3e7b4",
   "metadata": {
    "_cell_guid": "b1076dfc-b9ad-4769-8c92-a6c4dae69d19",
    "_uuid": "8f2839f25d086af736a60e9eeb907d3b93b6e0e5",
    "papermill": {
     "duration": 0.990405,
     "end_time": "2022-06-15T17:34:28.456817",
     "exception": false,
     "start_time": "2022-06-15T17:34:27.466412",
     "status": "completed"
    },
    "tags": []
   },
   "outputs": [],
   "source": [
    "from pathlib import Path\n",
    "\n",
    "import numpy as np\n",
    "import pandas as pd\n",
    "\n",
    "import seaborn as sns\n",
    "import matplotlib.pyplot as plt\n",
    "\n",
    "from sklearn.experimental import enable_iterative_imputer\n",
    "from sklearn.impute import SimpleImputer, IterativeImputer\n",
    "from sklearn.compose import ColumnTransformer\n",
    "\n",
    "from xgboost import XGBRegressor\n",
    "\n",
    "from tqdm import tqdm\n",
    "\n",
    "p = 1/55\n",
    "RANDOM_STATE=42\n",
    "INPUT_PATH = Path('./input')"
   ]
  },
  {
   "cell_type": "code",
   "execution_count": 2,
   "id": "131e4da9",
   "metadata": {
    "papermill": {
     "duration": 17.783962,
     "end_time": "2022-06-15T17:34:46.243294",
     "exception": false,
     "start_time": "2022-06-15T17:34:28.459332",
     "status": "completed"
    },
    "tags": []
   },
   "outputs": [],
   "source": [
    "dtypes = {'row_id' : 'int',\n",
    "          'F_2_0' : 'int', 'F_2_1' : 'int', 'F_2_2' : 'int',\n",
    "          'F_2_3' : 'int', 'F_2_4' : 'int', 'F_2_5' : 'int', \n",
    "          'F_2_6' : 'int', 'F_2_7' : 'int', 'F_2_8' : 'int',\n",
    "          'F_2_9' : 'int', 'F_2_10' : 'int', 'F_2_11' : 'int',\n",
    "          'F_2_12' : 'int', 'F_2_13' : 'int', 'F_2_14' : 'int',\n",
    "          'F_2_15' : 'int', 'F_2_16' : 'int', 'F_2_17' : 'int',\n",
    "          'F_2_18' : 'int', 'F_2_19' : 'int', 'F_2_20' : 'int',\n",
    "          'F_2_21' : 'int', 'F_2_22' : 'int', 'F_2_23' : 'int',\n",
    "          'F_2_24' : 'int'}\n",
    "\n",
    "data = pd.read_csv(INPUT_PATH / 'data.csv', \n",
    "                   index_col='row_id',\n",
    "                   dtype = dtypes)\n",
    "submission = pd.read_csv(INPUT_PATH / 'sample_submission.csv', \n",
    "                         index_col='row-col')"
   ]
  },
  {
   "cell_type": "code",
   "execution_count": 3,
   "id": "7c7eacad-07e5-4446-9817-d4dc11739cf1",
   "metadata": {},
   "outputs": [],
   "source": [
    "def cols_by_prefix(columns, prefix):\n",
    "    return [x for x in columns if x.startswith(prefix)]\n",
    "\n",
    "cols_f1 = cols_by_prefix(data.columns, 'F_1')\n",
    "cols_f2 = cols_by_prefix(data.columns, 'F_2')\n",
    "cols_f3 = cols_by_prefix(data.columns, 'F_3')\n",
    "cols_f4 = cols_by_prefix(data.columns, 'F_4')\n",
    "cols_f134 = cols_f1 + cols_f3 + cols_f4\n",
    "cols_f123 = cols_f1 + cols_f2 + cols_f3\n",
    "\n",
    "data_f134 = data[cols_f134]\n",
    "data_f1 = data[cols_f1]\n",
    "data_f2 = data[cols_f2]\n",
    "data_f3 = data[cols_f3]\n",
    "data_f4 = data[cols_f4]"
   ]
  },
  {
   "cell_type": "code",
   "execution_count": 4,
   "id": "516aa79e-50d3-491a-bb29-8b053a9fe249",
   "metadata": {},
   "outputs": [],
   "source": [
    "def make_training(df, n, p, random_state):\n",
    "    \"\"\"\n",
    "    This makes training data from the records with no missing values. Produces a training set with\n",
    "    synthetic missing values in the same proportion as the original dataset\n",
    "    \"\"\"\n",
    "    # first find all rows with *no* NaN; sample n rows\n",
    "    df = df[~df.isnull().any(axis=1)]\n",
    "    if n > 0:\n",
    "        df = df.sample(n=n, random_state=random_state)\n",
    "    \n",
    "    # random mask of NaN locations; only cols F_1*, F_3*, F_4*\n",
    "    mask = np.random.random(df[cols_f134].shape) < p\n",
    "    df_na = df[cols_f134].mask(mask)\n",
    "\n",
    "    # put it back together with F_2*\n",
    "    df_na = pd.concat([df_na[cols_f1], df[cols_f2], df_na[cols_f3], df_na[cols_f4]], axis=1)\n",
    "    return df, df_na, df_na.isna().sum().sum()\n",
    "\n",
    "def sse_cols(df1, df2):\n",
    "    return ((df1 - df2).pow(2)).sum()\n",
    "\n",
    "def rmse(df1, df2, n):\n",
    "    return (sse_cols(df1, df2).sum()/n)**0.5"
   ]
  },
  {
   "cell_type": "markdown",
   "id": "5c3c0f86-7c6e-4657-8bc8-18d011e06fd0",
   "metadata": {},
   "source": [
    "### Super simple baseline - mean imput all columns"
   ]
  },
  {
   "cell_type": "code",
   "execution_count": 5,
   "id": "a1d3bca3-c4c8-4bba-a0b0-57e85726d80c",
   "metadata": {},
   "outputs": [
    {
     "name": "stdout",
     "output_type": "stream",
     "text": [
      "RMSE=1.4215675334756572\n",
      "CPU times: total: 5.89 s\n",
      "Wall time: 5.35 s\n"
     ]
    }
   ],
   "source": [
    "%%time\n",
    "\n",
    "train, train_na, na_count = make_training(data, -1, p, RANDOM_STATE)\n",
    "imputer = SimpleImputer(strategy=\"mean\")\n",
    "train_na[:] = imputer.fit_transform(train_na)\n",
    "print(f'RMSE={rmse(train, train_na, na_count)}')\n"
   ]
  },
  {
   "cell_type": "markdown",
   "id": "08214a93-7c07-4a2b-9aa9-bcb9cfc491b7",
   "metadata": {},
   "source": [
    "### Whats the lowest possible RMSE score\n",
    "- mean impute f1-f3 (this just is a no-op on f2)\n",
    "- assume f4 is a perfect match"
   ]
  },
  {
   "cell_type": "code",
   "execution_count": 7,
   "id": "3ed0ab3a-dca1-4d69-a960-1ddd82df3e1c",
   "metadata": {},
   "outputs": [
    {
     "name": "stdout",
     "output_type": "stream",
     "text": [
      "RMSE=0.8280211270947019\n"
     ]
    }
   ],
   "source": [
    "mean_imputer = SimpleImputer(strategy=\"mean\")\n",
    "\n",
    "imputer = ColumnTransformer(\n",
    "    transformers=[\n",
    "        (\"mean1\", mean_imputer, cols_f1),\n",
    "        (\"mean2\", mean_imputer, cols_f2),\n",
    "        (\"mean3\", mean_imputer, cols_f3),\n",
    "    ],\n",
    "    remainder='passthrough'\n",
    ")\n",
    "\n",
    "train, train_na, na_count = make_training(data, -1, p, RANDOM_STATE)\n",
    "train_na[:] = imputer.fit_transform(train_na)\n",
    "\n",
    "print(f'RMSE={rmse(train, train_na, na_count)}')\n"
   ]
  },
  {
   "cell_type": "markdown",
   "id": "dc95d6ba-3698-45fb-bc63-37571d24a725",
   "metadata": {},
   "source": [
    "### Using IterativeImputer + XGB\n",
    "\n",
    "- mean impute f1-f3 before imputing f_4\n",
    "- just run 2 iterations"
   ]
  },
  {
   "cell_type": "code",
   "execution_count": 8,
   "id": "2b22f55d-980e-497f-a535-8af5dff48e15",
   "metadata": {},
   "outputs": [],
   "source": [
    "mean_imputer = SimpleImputer(strategy=\"mean\")\n",
    "\n",
    "imputer = ColumnTransformer(\n",
    "    transformers=[\n",
    "        (\"mean1\", mean_imputer, cols_f1),\n",
    "        (\"mean2\", mean_imputer, cols_f2),\n",
    "        (\"mean3\", mean_imputer, cols_f3),\n",
    "    ],\n",
    "    remainder='passthrough'\n",
    ")\n",
    "\n",
    "train, train_na, na_count = make_training(data, -1, p, RANDOM_STATE)\n",
    "train_na[:] = imputer.fit_transform(train_na)\n"
   ]
  },
  {
   "cell_type": "code",
   "execution_count": 9,
   "id": "fad2afa4-1f2a-49d5-9bec-789363b3d769",
   "metadata": {},
   "outputs": [
    {
     "name": "stdout",
     "output_type": "stream",
     "text": [
      "[IterativeImputer] Completing matrix with shape (364774, 15)\n",
      "[IterativeImputer] Ending imputation round 1/2, elapsed time 359.35\n",
      "[IterativeImputer] Change: 21.422502074717578, scaled tolerance: 0.029931176 \n",
      "[IterativeImputer] Ending imputation round 2/2, elapsed time 727.39\n",
      "[IterativeImputer] Change: 6.377307265996933, scaled tolerance: 0.029931176 \n"
     ]
    },
    {
     "name": "stderr",
     "output_type": "stream",
     "text": [
      "C:\\Users\\orovi\\anaconda3\\envs\\kaggle\\lib\\site-packages\\sklearn\\impute\\_iterative.py:699: ConvergenceWarning: [IterativeImputer] Early stopping criterion not reached.\n",
      "  warnings.warn(\n"
     ]
    },
    {
     "name": "stdout",
     "output_type": "stream",
     "text": [
      "RMSE=0.8949962823803645\n",
      "CPU times: total: 13min 13s\n",
      "Wall time: 12min 8s\n"
     ]
    }
   ],
   "source": [
    "%%time\n",
    "\n",
    "imputer = IterativeImputer(estimator=XGBRegressor(n_estimators=2000, \n",
    "                                                  tree_method='gpu_hist',\n",
    "                                                  random_state=RANDOM_STATE), \n",
    "                                     max_iter=2,\n",
    "                                     verbose=2,\n",
    "                                    random_state=RANDOM_STATE)\n",
    "train_na[cols_f4] = imputer.fit_transform(train_na[cols_f4])\n",
    "print(f'RMSE={rmse(train, train_na, na_count)}')"
   ]
  },
  {
   "cell_type": "markdown",
   "id": "dc692eb1-4319-4a1d-8345-84aff16900c4",
   "metadata": {},
   "source": [
    "### IterativeImputer on everything"
   ]
  },
  {
   "cell_type": "code",
   "execution_count": 11,
   "id": "e2c01493-ebf0-4e2d-b01e-45199f211780",
   "metadata": {},
   "outputs": [
    {
     "name": "stdout",
     "output_type": "stream",
     "text": [
      "[IterativeImputer] Completing matrix with shape (364774, 80)\n",
      "[IterativeImputer] Ending imputation round 1/20, elapsed time 131.37\n",
      "[IterativeImputer] Change: 0.0, scaled tolerance: 0.029931176 \n",
      "[IterativeImputer] Early stopping criterion reached.\n",
      "RMSE=0.8949962823803645\n",
      "CPU times: total: 13min 4s\n",
      "Wall time: 2min 13s\n"
     ]
    }
   ],
   "source": [
    "%%time\n",
    "\n",
    "mean_imputer = SimpleImputer(strategy=\"mean\")\n",
    "imputer = ColumnTransformer(\n",
    "    transformers=[\n",
    "        (\"mean1\", mean_imputer, cols_f1),\n",
    "        (\"mean2\", mean_imputer, cols_f2),\n",
    "        (\"mean3\", mean_imputer, cols_f3),\n",
    "    ],\n",
    "    remainder='passthrough'\n",
    ")\n",
    "train, train_na, na_count = make_training(data, -1, p, RANDOM_STATE)\n",
    "train_na[:] = imputer.fit_transform(train_na)\n",
    "\n",
    "imputer = IterativeImputer(verbose=2, max_iter=20, random_state=RANDOM_STATE)\n",
    "train_na[:] = imputer.fit_transform(train_na)\n",
    "print(f'RMSE={rmse(train, train_na, na_count)}')"
   ]
  },
  {
   "cell_type": "markdown",
   "id": "8ee21683-18a8-405f-bd82-067c5b41aa77",
   "metadata": {},
   "source": [
    "### XGB on full dataset for submission"
   ]
  },
  {
   "cell_type": "code",
   "execution_count": 12,
   "id": "318dbb71-f340-4ff0-9a01-d3c3ca0e47e5",
   "metadata": {},
   "outputs": [],
   "source": [
    "mean_imputer = SimpleImputer(strategy=\"mean\")\n",
    "\n",
    "imputer = ColumnTransformer(\n",
    "    transformers=[\n",
    "        (\"mean1\", mean_imputer, cols_f1),\n",
    "        (\"mean2\", mean_imputer, cols_f2),\n",
    "        (\"mean3\", mean_imputer, cols_f3),\n",
    "    ],\n",
    "    remainder='passthrough'\n",
    ")\n",
    "\n",
    "data[:] = imputer.fit_transform(data)"
   ]
  },
  {
   "cell_type": "code",
   "execution_count": 13,
   "id": "93386a8e-4b85-4c11-ab54-683c9b0b043b",
   "metadata": {},
   "outputs": [
    {
     "name": "stdout",
     "output_type": "stream",
     "text": [
      "[IterativeImputer] Completing matrix with shape (1000000, 15)\n",
      "[IterativeImputer] Ending imputation round 1/2, elapsed time 518.41\n",
      "[IterativeImputer] Change: 24.4230605560112, scaled tolerance: 0.031229363 \n",
      "[IterativeImputer] Ending imputation round 2/2, elapsed time 1049.60\n",
      "[IterativeImputer] Change: 6.591387063264847, scaled tolerance: 0.031229363 \n"
     ]
    },
    {
     "name": "stderr",
     "output_type": "stream",
     "text": [
      "C:\\Users\\orovi\\anaconda3\\envs\\kaggle\\lib\\site-packages\\sklearn\\impute\\_iterative.py:699: ConvergenceWarning: [IterativeImputer] Early stopping criterion not reached.\n",
      "  warnings.warn(\n"
     ]
    },
    {
     "name": "stdout",
     "output_type": "stream",
     "text": [
      "CPU times: total: 19min 45s\n",
      "Wall time: 17min 32s\n"
     ]
    }
   ],
   "source": [
    "%%time\n",
    "imputer = IterativeImputer(estimator=XGBRegressor(n_estimators=2000, \n",
    "                                                  tree_method='gpu_hist',\n",
    "                                                  random_state=RANDOM_STATE), \n",
    "                                     max_iter=2,\n",
    "                                     verbose=2,\n",
    "                                    random_state=RANDOM_STATE)\n",
    "data[cols_f4] = imputer.fit_transform(data[cols_f4])\n"
   ]
  },
  {
   "cell_type": "markdown",
   "id": "7a3db7f5-2c6c-4fff-a103-0b5dc03a8f6c",
   "metadata": {},
   "source": [
    "### Make a submission file"
   ]
  },
  {
   "cell_type": "code",
   "execution_count": 6,
   "id": "d76860b9",
   "metadata": {
    "papermill": {
     "duration": 94.195835,
     "end_time": "2022-06-15T18:31:02.720909",
     "exception": false,
     "start_time": "2022-06-15T18:29:28.525074",
     "status": "completed"
    },
    "tags": []
   },
   "outputs": [
    {
     "name": "stderr",
     "output_type": "stream",
     "text": [
      "100%|█████████████████████████████████████████████████████████████████████| 1000000/1000000 [01:00<00:00, 16594.96it/s]\n"
     ]
    }
   ],
   "source": [
    "for i in tqdm(submission.index):\n",
    "    row = int(i.split('-')[0])\n",
    "    col = i.split('-')[1]\n",
    "    submission.loc[i, 'value'] = data.loc[row, col]\n",
    "\n",
    "submission.to_csv('submission.csv')"
   ]
  }
 ],
 "metadata": {
  "kernelspec": {
   "display_name": "Python 3 (ipykernel)",
   "language": "python",
   "name": "python3"
  },
  "language_info": {
   "codemirror_mode": {
    "name": "ipython",
    "version": 3
   },
   "file_extension": ".py",
   "mimetype": "text/x-python",
   "name": "python",
   "nbconvert_exporter": "python",
   "pygments_lexer": "ipython3",
   "version": "3.9.12"
  },
  "papermill": {
   "default_parameters": {},
   "duration": 3405.76345,
   "end_time": "2022-06-15T18:31:05.098798",
   "environment_variables": {},
   "exception": null,
   "input_path": "__notebook__.ipynb",
   "output_path": "__notebook__.ipynb",
   "parameters": {},
   "start_time": "2022-06-15T17:34:19.335348",
   "version": "2.3.4"
  }
 },
 "nbformat": 4,
 "nbformat_minor": 5
}
