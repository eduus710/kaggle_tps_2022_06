{
 "cells": [
  {
   "cell_type": "markdown",
   "id": "32518d81",
   "metadata": {
    "papermill": {
     "duration": 0.009668,
     "end_time": "2022-06-18T21:07:23.898319",
     "exception": false,
     "start_time": "2022-06-18T21:07:23.888651",
     "status": "completed"
    },
    "tags": []
   },
   "source": [
    "# How random are the NaNs?\n",
    "\n",
    "I wanted to take a look at the distribution of the missing values to see if they are completely random.\n",
    "\n",
    "Primarily I'm interested in the feasibility of synthesizing subsets of test data that would evaluate comparably to the LB metric. So I will investigate:\n",
    "\n",
    "- Is the distribution of NaNs in the data random?\n",
    "- If so, how sensitive is the metric to our synthesized test data?\n",
    "- Are eval metrics on the test subsets comparable to the LB metric?\n",
    "\n",
    "TLDR: \n",
    "- NaNs seem distributed completely at random.\n",
    "- using a subset of the complete records and randomly generating missing values seems to produce evaluation results that align well with leaderboard results.\n"
   ]
  },
  {
   "cell_type": "code",
   "execution_count": 1,
   "id": "9faa2fc4",
   "metadata": {
    "_cell_guid": "b1076dfc-b9ad-4769-8c92-a6c4dae69d19",
    "_uuid": "8f2839f25d086af736a60e9eeb907d3b93b6e0e5",
    "execution": {
     "iopub.execute_input": "2022-06-18T21:07:23.918089Z",
     "iopub.status.busy": "2022-06-18T21:07:23.917058Z",
     "iopub.status.idle": "2022-06-18T21:07:26.136111Z",
     "shell.execute_reply": "2022-06-18T21:07:26.135045Z"
    },
    "papermill": {
     "duration": 2.232023,
     "end_time": "2022-06-18T21:07:26.139068",
     "exception": false,
     "start_time": "2022-06-18T21:07:23.907045",
     "status": "completed"
    },
    "tags": []
   },
   "outputs": [
    {
     "name": "stderr",
     "output_type": "stream",
     "text": [
      "Intel(R) Extension for Scikit-learn* enabled (https://github.com/intel/scikit-learn-intelex)\n"
     ]
    }
   ],
   "source": [
    "from pathlib import Path\n",
    "\n",
    "import numpy as np\n",
    "import pandas as pd\n",
    "import seaborn as sns\n",
    "\n",
    "from scipy.stats import binom\n",
    "import matplotlib.pyplot as plt\n",
    "\n",
    "from sklearn.experimental import enable_iterative_imputer\n",
    "from sklearn.impute import SimpleImputer, KNNImputer, IterativeImputer\n",
    "\n",
    "# does this speed imputation up?\n",
    "from sklearnex import patch_sklearn\n",
    "patch_sklearn()\n",
    "\n",
    "RANDOM_STATE=42\n",
    "INPUT_PATH = Path('../input/tabular-playground-series-jun-2022')\n",
    "\n",
    "pd.set_option('display.max_columns', None)\n",
    "pd.set_option('display.float_format', '{:.3f}'.format)\n",
    "\n",
    "np.random.seed(RANDOM_STATE)"
   ]
  },
  {
   "cell_type": "code",
   "execution_count": 2,
   "id": "9aacde8b",
   "metadata": {
    "execution": {
     "iopub.execute_input": "2022-06-18T21:07:26.158873Z",
     "iopub.status.busy": "2022-06-18T21:07:26.158410Z",
     "iopub.status.idle": "2022-06-18T21:07:46.624430Z",
     "shell.execute_reply": "2022-06-18T21:07:46.623433Z"
    },
    "papermill": {
     "duration": 20.479151,
     "end_time": "2022-06-18T21:07:46.627060",
     "exception": false,
     "start_time": "2022-06-18T21:07:26.147909",
     "status": "completed"
    },
    "tags": []
   },
   "outputs": [],
   "source": [
    "dtypes = {'row_id' : 'int',\n",
    "          'F_2_0' : 'int', 'F_2_1' : 'int', 'F_2_2' : 'int',\n",
    "          'F_2_3' : 'int', 'F_2_4' : 'int', 'F_2_5' : 'int', \n",
    "          'F_2_6' : 'int', 'F_2_7' : 'int', 'F_2_8' : 'int',\n",
    "          'F_2_9' : 'int', 'F_2_10' : 'int', 'F_2_11' : 'int',\n",
    "          'F_2_12' : 'int', 'F_2_13' : 'int', 'F_2_14' : 'int',\n",
    "          'F_2_15' : 'int', 'F_2_16' : 'int', 'F_2_17' : 'int',\n",
    "          'F_2_18' : 'int', 'F_2_19' : 'int', 'F_2_20' : 'int',\n",
    "          'F_2_21' : 'int', 'F_2_22' : 'int', 'F_2_23' : 'int',\n",
    "          'F_2_24' : 'int'}\n",
    "\n",
    "data = pd.read_csv(INPUT_PATH / 'data.csv', \n",
    "                   index_col='row_id',\n",
    "                   dtype = dtypes)\n",
    "\n",
    "submission = pd.read_csv(INPUT_PATH / 'sample_submission.csv', \n",
    "                         index_col='row-col')"
   ]
  },
  {
   "cell_type": "code",
   "execution_count": 3,
   "id": "3cd02bb5",
   "metadata": {
    "execution": {
     "iopub.execute_input": "2022-06-18T21:07:46.646018Z",
     "iopub.status.busy": "2022-06-18T21:07:46.645606Z",
     "iopub.status.idle": "2022-06-18T21:07:46.980765Z",
     "shell.execute_reply": "2022-06-18T21:07:46.979691Z"
    },
    "papermill": {
     "duration": 0.347377,
     "end_time": "2022-06-18T21:07:46.983332",
     "exception": false,
     "start_time": "2022-06-18T21:07:46.635955",
     "status": "completed"
    },
    "tags": []
   },
   "outputs": [],
   "source": [
    "def cols_by_prefix(columns, prefix):\n",
    "    return [x for x in columns if x.startswith(prefix)]\n",
    "\n",
    "cols_f1 = cols_by_prefix(data.columns, 'F_1')\n",
    "cols_f2 = cols_by_prefix(data.columns, 'F_2')\n",
    "cols_f3 = cols_by_prefix(data.columns, 'F_3')\n",
    "cols_f4 = cols_by_prefix(data.columns, 'F_4')\n",
    "cols_f134 = cols_f1 + cols_f3 + cols_f4\n",
    "\n",
    "data_f134 = data[cols_f134]\n",
    "data_f1 = data[cols_f1]\n",
    "data_f2 = data[cols_f2]\n",
    "data_f3 = data[cols_f3]\n",
    "data_f4 = data[cols_f4]"
   ]
  },
  {
   "cell_type": "markdown",
   "id": "0b3caf3c",
   "metadata": {
    "papermill": {
     "duration": 0.008226,
     "end_time": "2022-06-18T21:07:47.000128",
     "exception": false,
     "start_time": "2022-06-18T21:07:46.991902",
     "status": "completed"
    },
    "tags": []
   },
   "source": [
    "# What's Missing\n",
    "\n",
    "Let's examine the data and the column groups to get a sense for what's missing.\n",
    "\n",
    "- We have a million rows. \n",
    "- Column groups F_1, F_3, F_4 are all floating point and contain missing values, and every column has some missing values. \n",
    "- Column group F_2 appear to be ordinals or categoricals of some kind, and have no missing values."
   ]
  },
  {
   "cell_type": "code",
   "execution_count": 4,
   "id": "40f55889",
   "metadata": {
    "execution": {
     "iopub.execute_input": "2022-06-18T21:07:47.019078Z",
     "iopub.status.busy": "2022-06-18T21:07:47.018299Z",
     "iopub.status.idle": "2022-06-18T21:07:48.007940Z",
     "shell.execute_reply": "2022-06-18T21:07:48.006735Z"
    },
    "papermill": {
     "duration": 1.001574,
     "end_time": "2022-06-18T21:07:48.010138",
     "exception": false,
     "start_time": "2022-06-18T21:07:47.008564",
     "status": "completed"
    },
    "tags": []
   },
   "outputs": [
    {
     "data": {
      "text/html": [
       "<div>\n",
       "<style scoped>\n",
       "    .dataframe tbody tr th:only-of-type {\n",
       "        vertical-align: middle;\n",
       "    }\n",
       "\n",
       "    .dataframe tbody tr th {\n",
       "        vertical-align: top;\n",
       "    }\n",
       "\n",
       "    .dataframe thead th {\n",
       "        text-align: right;\n",
       "    }\n",
       "</style>\n",
       "<table border=\"1\" class=\"dataframe\">\n",
       "  <thead>\n",
       "    <tr style=\"text-align: right;\">\n",
       "      <th></th>\n",
       "      <th>F_1_0</th>\n",
       "      <th>F_1_1</th>\n",
       "      <th>F_1_2</th>\n",
       "      <th>F_1_3</th>\n",
       "      <th>F_1_4</th>\n",
       "      <th>F_1_5</th>\n",
       "      <th>F_1_6</th>\n",
       "      <th>F_1_7</th>\n",
       "      <th>F_1_8</th>\n",
       "      <th>F_1_9</th>\n",
       "      <th>F_1_10</th>\n",
       "      <th>F_1_11</th>\n",
       "      <th>F_1_12</th>\n",
       "      <th>F_1_13</th>\n",
       "      <th>F_1_14</th>\n",
       "    </tr>\n",
       "  </thead>\n",
       "  <tbody>\n",
       "    <tr>\n",
       "      <th>count</th>\n",
       "      <td>981603.000</td>\n",
       "      <td>981784.000</td>\n",
       "      <td>981992.000</td>\n",
       "      <td>981750.000</td>\n",
       "      <td>981678.000</td>\n",
       "      <td>981911.000</td>\n",
       "      <td>981867.000</td>\n",
       "      <td>981872.000</td>\n",
       "      <td>981838.000</td>\n",
       "      <td>981751.000</td>\n",
       "      <td>982039.000</td>\n",
       "      <td>981830.000</td>\n",
       "      <td>981797.000</td>\n",
       "      <td>981602.000</td>\n",
       "      <td>981961.000</td>\n",
       "    </tr>\n",
       "    <tr>\n",
       "      <th>mean</th>\n",
       "      <td>-0.001</td>\n",
       "      <td>0.002</td>\n",
       "      <td>0.001</td>\n",
       "      <td>0.001</td>\n",
       "      <td>0.002</td>\n",
       "      <td>0.001</td>\n",
       "      <td>-0.000</td>\n",
       "      <td>-0.064</td>\n",
       "      <td>-0.000</td>\n",
       "      <td>0.000</td>\n",
       "      <td>0.000</td>\n",
       "      <td>-0.001</td>\n",
       "      <td>-0.061</td>\n",
       "      <td>-0.067</td>\n",
       "      <td>-0.001</td>\n",
       "    </tr>\n",
       "    <tr>\n",
       "      <th>std</th>\n",
       "      <td>1.001</td>\n",
       "      <td>1.000</td>\n",
       "      <td>1.000</td>\n",
       "      <td>1.000</td>\n",
       "      <td>1.001</td>\n",
       "      <td>1.000</td>\n",
       "      <td>1.000</td>\n",
       "      <td>0.726</td>\n",
       "      <td>1.001</td>\n",
       "      <td>1.000</td>\n",
       "      <td>0.999</td>\n",
       "      <td>1.000</td>\n",
       "      <td>0.712</td>\n",
       "      <td>0.746</td>\n",
       "      <td>1.000</td>\n",
       "    </tr>\n",
       "    <tr>\n",
       "      <th>min</th>\n",
       "      <td>-4.664</td>\n",
       "      <td>-4.791</td>\n",
       "      <td>-4.871</td>\n",
       "      <td>-5.053</td>\n",
       "      <td>-5.363</td>\n",
       "      <td>-5.508</td>\n",
       "      <td>-5.199</td>\n",
       "      <td>-6.990</td>\n",
       "      <td>-4.567</td>\n",
       "      <td>-4.998</td>\n",
       "      <td>-4.795</td>\n",
       "      <td>-4.612</td>\n",
       "      <td>-7.063</td>\n",
       "      <td>-6.896</td>\n",
       "      <td>-4.630</td>\n",
       "    </tr>\n",
       "    <tr>\n",
       "      <th>25%</th>\n",
       "      <td>-0.675</td>\n",
       "      <td>-0.672</td>\n",
       "      <td>-0.674</td>\n",
       "      <td>-0.672</td>\n",
       "      <td>-0.672</td>\n",
       "      <td>-0.674</td>\n",
       "      <td>-0.675</td>\n",
       "      <td>-0.500</td>\n",
       "      <td>-0.674</td>\n",
       "      <td>-0.674</td>\n",
       "      <td>-0.674</td>\n",
       "      <td>-0.677</td>\n",
       "      <td>-0.489</td>\n",
       "      <td>-0.514</td>\n",
       "      <td>-0.676</td>\n",
       "    </tr>\n",
       "    <tr>\n",
       "      <th>50%</th>\n",
       "      <td>-0.001</td>\n",
       "      <td>0.002</td>\n",
       "      <td>0.001</td>\n",
       "      <td>0.000</td>\n",
       "      <td>0.003</td>\n",
       "      <td>0.000</td>\n",
       "      <td>0.001</td>\n",
       "      <td>0.001</td>\n",
       "      <td>-0.000</td>\n",
       "      <td>0.001</td>\n",
       "      <td>0.001</td>\n",
       "      <td>-0.001</td>\n",
       "      <td>0.001</td>\n",
       "      <td>-0.001</td>\n",
       "      <td>-0.000</td>\n",
       "    </tr>\n",
       "    <tr>\n",
       "      <th>75%</th>\n",
       "      <td>0.673</td>\n",
       "      <td>0.676</td>\n",
       "      <td>0.674</td>\n",
       "      <td>0.675</td>\n",
       "      <td>0.677</td>\n",
       "      <td>0.676</td>\n",
       "      <td>0.674</td>\n",
       "      <td>0.444</td>\n",
       "      <td>0.674</td>\n",
       "      <td>0.676</td>\n",
       "      <td>0.674</td>\n",
       "      <td>0.674</td>\n",
       "      <td>0.436</td>\n",
       "      <td>0.455</td>\n",
       "      <td>0.673</td>\n",
       "    </tr>\n",
       "    <tr>\n",
       "      <th>max</th>\n",
       "      <td>5.039</td>\n",
       "      <td>5.043</td>\n",
       "      <td>5.130</td>\n",
       "      <td>5.462</td>\n",
       "      <td>4.857</td>\n",
       "      <td>4.961</td>\n",
       "      <td>4.958</td>\n",
       "      <td>2.528</td>\n",
       "      <td>4.886</td>\n",
       "      <td>4.789</td>\n",
       "      <td>4.914</td>\n",
       "      <td>4.818</td>\n",
       "      <td>2.301</td>\n",
       "      <td>2.543</td>\n",
       "      <td>4.816</td>\n",
       "    </tr>\n",
       "  </tbody>\n",
       "</table>\n",
       "</div>"
      ],
      "text/plain": [
       "           F_1_0      F_1_1      F_1_2      F_1_3      F_1_4      F_1_5  \\\n",
       "count 981603.000 981784.000 981992.000 981750.000 981678.000 981911.000   \n",
       "mean      -0.001      0.002      0.001      0.001      0.002      0.001   \n",
       "std        1.001      1.000      1.000      1.000      1.001      1.000   \n",
       "min       -4.664     -4.791     -4.871     -5.053     -5.363     -5.508   \n",
       "25%       -0.675     -0.672     -0.674     -0.672     -0.672     -0.674   \n",
       "50%       -0.001      0.002      0.001      0.000      0.003      0.000   \n",
       "75%        0.673      0.676      0.674      0.675      0.677      0.676   \n",
       "max        5.039      5.043      5.130      5.462      4.857      4.961   \n",
       "\n",
       "           F_1_6      F_1_7      F_1_8      F_1_9     F_1_10     F_1_11  \\\n",
       "count 981867.000 981872.000 981838.000 981751.000 982039.000 981830.000   \n",
       "mean      -0.000     -0.064     -0.000      0.000      0.000     -0.001   \n",
       "std        1.000      0.726      1.001      1.000      0.999      1.000   \n",
       "min       -5.199     -6.990     -4.567     -4.998     -4.795     -4.612   \n",
       "25%       -0.675     -0.500     -0.674     -0.674     -0.674     -0.677   \n",
       "50%        0.001      0.001     -0.000      0.001      0.001     -0.001   \n",
       "75%        0.674      0.444      0.674      0.676      0.674      0.674   \n",
       "max        4.958      2.528      4.886      4.789      4.914      4.818   \n",
       "\n",
       "          F_1_12     F_1_13     F_1_14  \n",
       "count 981797.000 981602.000 981961.000  \n",
       "mean      -0.061     -0.067     -0.001  \n",
       "std        0.712      0.746      1.000  \n",
       "min       -7.063     -6.896     -4.630  \n",
       "25%       -0.489     -0.514     -0.676  \n",
       "50%        0.001     -0.001     -0.000  \n",
       "75%        0.436      0.455      0.673  \n",
       "max        2.301      2.543      4.816  "
      ]
     },
     "execution_count": 4,
     "metadata": {},
     "output_type": "execute_result"
    }
   ],
   "source": [
    "data_f1.describe()"
   ]
  },
  {
   "cell_type": "code",
   "execution_count": 5,
   "id": "ff2cdae4",
   "metadata": {
    "execution": {
     "iopub.execute_input": "2022-06-18T21:07:48.030414Z",
     "iopub.status.busy": "2022-06-18T21:07:48.030009Z",
     "iopub.status.idle": "2022-06-18T21:07:48.907817Z",
     "shell.execute_reply": "2022-06-18T21:07:48.906603Z"
    },
    "papermill": {
     "duration": 0.891314,
     "end_time": "2022-06-18T21:07:48.910521",
     "exception": false,
     "start_time": "2022-06-18T21:07:48.019207",
     "status": "completed"
    },
    "tags": []
   },
   "outputs": [
    {
     "data": {
      "text/html": [
       "<div>\n",
       "<style scoped>\n",
       "    .dataframe tbody tr th:only-of-type {\n",
       "        vertical-align: middle;\n",
       "    }\n",
       "\n",
       "    .dataframe tbody tr th {\n",
       "        vertical-align: top;\n",
       "    }\n",
       "\n",
       "    .dataframe thead th {\n",
       "        text-align: right;\n",
       "    }\n",
       "</style>\n",
       "<table border=\"1\" class=\"dataframe\">\n",
       "  <thead>\n",
       "    <tr style=\"text-align: right;\">\n",
       "      <th></th>\n",
       "      <th>F_2_0</th>\n",
       "      <th>F_2_1</th>\n",
       "      <th>F_2_2</th>\n",
       "      <th>F_2_3</th>\n",
       "      <th>F_2_4</th>\n",
       "      <th>F_2_5</th>\n",
       "      <th>F_2_6</th>\n",
       "      <th>F_2_7</th>\n",
       "      <th>F_2_8</th>\n",
       "      <th>F_2_9</th>\n",
       "      <th>F_2_10</th>\n",
       "      <th>F_2_11</th>\n",
       "      <th>F_2_12</th>\n",
       "      <th>F_2_13</th>\n",
       "      <th>F_2_14</th>\n",
       "      <th>F_2_15</th>\n",
       "      <th>F_2_16</th>\n",
       "      <th>F_2_17</th>\n",
       "      <th>F_2_18</th>\n",
       "      <th>F_2_19</th>\n",
       "      <th>F_2_20</th>\n",
       "      <th>F_2_21</th>\n",
       "      <th>F_2_22</th>\n",
       "      <th>F_2_23</th>\n",
       "      <th>F_2_24</th>\n",
       "    </tr>\n",
       "  </thead>\n",
       "  <tbody>\n",
       "    <tr>\n",
       "      <th>count</th>\n",
       "      <td>1000000.000</td>\n",
       "      <td>1000000.000</td>\n",
       "      <td>1000000.000</td>\n",
       "      <td>1000000.000</td>\n",
       "      <td>1000000.000</td>\n",
       "      <td>1000000.000</td>\n",
       "      <td>1000000.000</td>\n",
       "      <td>1000000.000</td>\n",
       "      <td>1000000.000</td>\n",
       "      <td>1000000.000</td>\n",
       "      <td>1000000.000</td>\n",
       "      <td>1000000.000</td>\n",
       "      <td>1000000.000</td>\n",
       "      <td>1000000.000</td>\n",
       "      <td>1000000.000</td>\n",
       "      <td>1000000.000</td>\n",
       "      <td>1000000.000</td>\n",
       "      <td>1000000.000</td>\n",
       "      <td>1000000.000</td>\n",
       "      <td>1000000.000</td>\n",
       "      <td>1000000.000</td>\n",
       "      <td>1000000.000</td>\n",
       "      <td>1000000.000</td>\n",
       "      <td>1000000.000</td>\n",
       "      <td>1000000.000</td>\n",
       "    </tr>\n",
       "    <tr>\n",
       "      <th>mean</th>\n",
       "      <td>2.688</td>\n",
       "      <td>2.514</td>\n",
       "      <td>0.977</td>\n",
       "      <td>2.517</td>\n",
       "      <td>2.941</td>\n",
       "      <td>1.533</td>\n",
       "      <td>1.492</td>\n",
       "      <td>2.646</td>\n",
       "      <td>1.178</td>\n",
       "      <td>1.111</td>\n",
       "      <td>3.280</td>\n",
       "      <td>2.466</td>\n",
       "      <td>2.759</td>\n",
       "      <td>2.480</td>\n",
       "      <td>1.718</td>\n",
       "      <td>1.780</td>\n",
       "      <td>1.801</td>\n",
       "      <td>1.243</td>\n",
       "      <td>1.557</td>\n",
       "      <td>1.603</td>\n",
       "      <td>2.231</td>\n",
       "      <td>2.032</td>\n",
       "      <td>1.606</td>\n",
       "      <td>0.709</td>\n",
       "      <td>3.134</td>\n",
       "    </tr>\n",
       "    <tr>\n",
       "      <th>std</th>\n",
       "      <td>1.875</td>\n",
       "      <td>1.751</td>\n",
       "      <td>1.038</td>\n",
       "      <td>1.653</td>\n",
       "      <td>1.977</td>\n",
       "      <td>1.351</td>\n",
       "      <td>1.316</td>\n",
       "      <td>1.745</td>\n",
       "      <td>1.319</td>\n",
       "      <td>1.096</td>\n",
       "      <td>1.872</td>\n",
       "      <td>1.600</td>\n",
       "      <td>1.705</td>\n",
       "      <td>1.646</td>\n",
       "      <td>1.557</td>\n",
       "      <td>1.459</td>\n",
       "      <td>1.459</td>\n",
       "      <td>1.246</td>\n",
       "      <td>1.445</td>\n",
       "      <td>1.421</td>\n",
       "      <td>1.561</td>\n",
       "      <td>1.609</td>\n",
       "      <td>1.555</td>\n",
       "      <td>1.079</td>\n",
       "      <td>1.821</td>\n",
       "    </tr>\n",
       "    <tr>\n",
       "      <th>min</th>\n",
       "      <td>0.000</td>\n",
       "      <td>0.000</td>\n",
       "      <td>0.000</td>\n",
       "      <td>0.000</td>\n",
       "      <td>0.000</td>\n",
       "      <td>0.000</td>\n",
       "      <td>0.000</td>\n",
       "      <td>0.000</td>\n",
       "      <td>0.000</td>\n",
       "      <td>0.000</td>\n",
       "      <td>0.000</td>\n",
       "      <td>0.000</td>\n",
       "      <td>0.000</td>\n",
       "      <td>0.000</td>\n",
       "      <td>0.000</td>\n",
       "      <td>0.000</td>\n",
       "      <td>0.000</td>\n",
       "      <td>0.000</td>\n",
       "      <td>0.000</td>\n",
       "      <td>0.000</td>\n",
       "      <td>0.000</td>\n",
       "      <td>0.000</td>\n",
       "      <td>0.000</td>\n",
       "      <td>0.000</td>\n",
       "      <td>0.000</td>\n",
       "    </tr>\n",
       "    <tr>\n",
       "      <th>25%</th>\n",
       "      <td>1.000</td>\n",
       "      <td>1.000</td>\n",
       "      <td>0.000</td>\n",
       "      <td>1.000</td>\n",
       "      <td>1.000</td>\n",
       "      <td>1.000</td>\n",
       "      <td>0.000</td>\n",
       "      <td>1.000</td>\n",
       "      <td>0.000</td>\n",
       "      <td>0.000</td>\n",
       "      <td>2.000</td>\n",
       "      <td>1.000</td>\n",
       "      <td>2.000</td>\n",
       "      <td>1.000</td>\n",
       "      <td>1.000</td>\n",
       "      <td>1.000</td>\n",
       "      <td>1.000</td>\n",
       "      <td>0.000</td>\n",
       "      <td>0.000</td>\n",
       "      <td>0.000</td>\n",
       "      <td>1.000</td>\n",
       "      <td>1.000</td>\n",
       "      <td>0.000</td>\n",
       "      <td>0.000</td>\n",
       "      <td>2.000</td>\n",
       "    </tr>\n",
       "    <tr>\n",
       "      <th>50%</th>\n",
       "      <td>2.000</td>\n",
       "      <td>2.000</td>\n",
       "      <td>1.000</td>\n",
       "      <td>2.000</td>\n",
       "      <td>3.000</td>\n",
       "      <td>1.000</td>\n",
       "      <td>1.000</td>\n",
       "      <td>2.000</td>\n",
       "      <td>1.000</td>\n",
       "      <td>1.000</td>\n",
       "      <td>3.000</td>\n",
       "      <td>2.000</td>\n",
       "      <td>3.000</td>\n",
       "      <td>2.000</td>\n",
       "      <td>1.000</td>\n",
       "      <td>2.000</td>\n",
       "      <td>2.000</td>\n",
       "      <td>1.000</td>\n",
       "      <td>1.000</td>\n",
       "      <td>1.000</td>\n",
       "      <td>2.000</td>\n",
       "      <td>2.000</td>\n",
       "      <td>1.000</td>\n",
       "      <td>0.000</td>\n",
       "      <td>3.000</td>\n",
       "    </tr>\n",
       "    <tr>\n",
       "      <th>75%</th>\n",
       "      <td>4.000</td>\n",
       "      <td>4.000</td>\n",
       "      <td>2.000</td>\n",
       "      <td>4.000</td>\n",
       "      <td>4.000</td>\n",
       "      <td>2.000</td>\n",
       "      <td>2.000</td>\n",
       "      <td>4.000</td>\n",
       "      <td>2.000</td>\n",
       "      <td>2.000</td>\n",
       "      <td>4.000</td>\n",
       "      <td>3.000</td>\n",
       "      <td>4.000</td>\n",
       "      <td>3.000</td>\n",
       "      <td>3.000</td>\n",
       "      <td>3.000</td>\n",
       "      <td>3.000</td>\n",
       "      <td>2.000</td>\n",
       "      <td>2.000</td>\n",
       "      <td>2.000</td>\n",
       "      <td>3.000</td>\n",
       "      <td>3.000</td>\n",
       "      <td>2.000</td>\n",
       "      <td>1.000</td>\n",
       "      <td>4.000</td>\n",
       "    </tr>\n",
       "    <tr>\n",
       "      <th>max</th>\n",
       "      <td>15.000</td>\n",
       "      <td>14.000</td>\n",
       "      <td>11.000</td>\n",
       "      <td>14.000</td>\n",
       "      <td>16.000</td>\n",
       "      <td>12.000</td>\n",
       "      <td>12.000</td>\n",
       "      <td>16.000</td>\n",
       "      <td>13.000</td>\n",
       "      <td>11.000</td>\n",
       "      <td>17.000</td>\n",
       "      <td>13.000</td>\n",
       "      <td>15.000</td>\n",
       "      <td>15.000</td>\n",
       "      <td>13.000</td>\n",
       "      <td>13.000</td>\n",
       "      <td>13.000</td>\n",
       "      <td>12.000</td>\n",
       "      <td>15.000</td>\n",
       "      <td>13.000</td>\n",
       "      <td>14.000</td>\n",
       "      <td>15.000</td>\n",
       "      <td>16.000</td>\n",
       "      <td>11.000</td>\n",
       "      <td>17.000</td>\n",
       "    </tr>\n",
       "  </tbody>\n",
       "</table>\n",
       "</div>"
      ],
      "text/plain": [
       "            F_2_0       F_2_1       F_2_2       F_2_3       F_2_4       F_2_5  \\\n",
       "count 1000000.000 1000000.000 1000000.000 1000000.000 1000000.000 1000000.000   \n",
       "mean        2.688       2.514       0.977       2.517       2.941       1.533   \n",
       "std         1.875       1.751       1.038       1.653       1.977       1.351   \n",
       "min         0.000       0.000       0.000       0.000       0.000       0.000   \n",
       "25%         1.000       1.000       0.000       1.000       1.000       1.000   \n",
       "50%         2.000       2.000       1.000       2.000       3.000       1.000   \n",
       "75%         4.000       4.000       2.000       4.000       4.000       2.000   \n",
       "max        15.000      14.000      11.000      14.000      16.000      12.000   \n",
       "\n",
       "            F_2_6       F_2_7       F_2_8       F_2_9      F_2_10      F_2_11  \\\n",
       "count 1000000.000 1000000.000 1000000.000 1000000.000 1000000.000 1000000.000   \n",
       "mean        1.492       2.646       1.178       1.111       3.280       2.466   \n",
       "std         1.316       1.745       1.319       1.096       1.872       1.600   \n",
       "min         0.000       0.000       0.000       0.000       0.000       0.000   \n",
       "25%         0.000       1.000       0.000       0.000       2.000       1.000   \n",
       "50%         1.000       2.000       1.000       1.000       3.000       2.000   \n",
       "75%         2.000       4.000       2.000       2.000       4.000       3.000   \n",
       "max        12.000      16.000      13.000      11.000      17.000      13.000   \n",
       "\n",
       "           F_2_12      F_2_13      F_2_14      F_2_15      F_2_16      F_2_17  \\\n",
       "count 1000000.000 1000000.000 1000000.000 1000000.000 1000000.000 1000000.000   \n",
       "mean        2.759       2.480       1.718       1.780       1.801       1.243   \n",
       "std         1.705       1.646       1.557       1.459       1.459       1.246   \n",
       "min         0.000       0.000       0.000       0.000       0.000       0.000   \n",
       "25%         2.000       1.000       1.000       1.000       1.000       0.000   \n",
       "50%         3.000       2.000       1.000       2.000       2.000       1.000   \n",
       "75%         4.000       3.000       3.000       3.000       3.000       2.000   \n",
       "max        15.000      15.000      13.000      13.000      13.000      12.000   \n",
       "\n",
       "           F_2_18      F_2_19      F_2_20      F_2_21      F_2_22      F_2_23  \\\n",
       "count 1000000.000 1000000.000 1000000.000 1000000.000 1000000.000 1000000.000   \n",
       "mean        1.557       1.603       2.231       2.032       1.606       0.709   \n",
       "std         1.445       1.421       1.561       1.609       1.555       1.079   \n",
       "min         0.000       0.000       0.000       0.000       0.000       0.000   \n",
       "25%         0.000       0.000       1.000       1.000       0.000       0.000   \n",
       "50%         1.000       1.000       2.000       2.000       1.000       0.000   \n",
       "75%         2.000       2.000       3.000       3.000       2.000       1.000   \n",
       "max        15.000      13.000      14.000      15.000      16.000      11.000   \n",
       "\n",
       "           F_2_24  \n",
       "count 1000000.000  \n",
       "mean        3.134  \n",
       "std         1.821  \n",
       "min         0.000  \n",
       "25%         2.000  \n",
       "50%         3.000  \n",
       "75%         4.000  \n",
       "max        17.000  "
      ]
     },
     "execution_count": 5,
     "metadata": {},
     "output_type": "execute_result"
    }
   ],
   "source": [
    "data_f2.describe()"
   ]
  },
  {
   "cell_type": "code",
   "execution_count": 6,
   "id": "aa843381",
   "metadata": {
    "execution": {
     "iopub.execute_input": "2022-06-18T21:07:48.932468Z",
     "iopub.status.busy": "2022-06-18T21:07:48.931579Z",
     "iopub.status.idle": "2022-06-18T21:07:50.508025Z",
     "shell.execute_reply": "2022-06-18T21:07:50.507094Z"
    },
    "papermill": {
     "duration": 1.589628,
     "end_time": "2022-06-18T21:07:50.510008",
     "exception": false,
     "start_time": "2022-06-18T21:07:48.920380",
     "status": "completed"
    },
    "tags": []
   },
   "outputs": [
    {
     "data": {
      "text/html": [
       "<div>\n",
       "<style scoped>\n",
       "    .dataframe tbody tr th:only-of-type {\n",
       "        vertical-align: middle;\n",
       "    }\n",
       "\n",
       "    .dataframe tbody tr th {\n",
       "        vertical-align: top;\n",
       "    }\n",
       "\n",
       "    .dataframe thead th {\n",
       "        text-align: right;\n",
       "    }\n",
       "</style>\n",
       "<table border=\"1\" class=\"dataframe\">\n",
       "  <thead>\n",
       "    <tr style=\"text-align: right;\">\n",
       "      <th></th>\n",
       "      <th>F_3_0</th>\n",
       "      <th>F_3_1</th>\n",
       "      <th>F_3_2</th>\n",
       "      <th>F_3_3</th>\n",
       "      <th>F_3_4</th>\n",
       "      <th>F_3_5</th>\n",
       "      <th>F_3_6</th>\n",
       "      <th>F_3_7</th>\n",
       "      <th>F_3_8</th>\n",
       "      <th>F_3_9</th>\n",
       "      <th>F_3_10</th>\n",
       "      <th>F_3_11</th>\n",
       "      <th>F_3_12</th>\n",
       "      <th>F_3_13</th>\n",
       "      <th>F_3_14</th>\n",
       "      <th>F_3_15</th>\n",
       "      <th>F_3_16</th>\n",
       "      <th>F_3_17</th>\n",
       "      <th>F_3_18</th>\n",
       "      <th>F_3_19</th>\n",
       "      <th>F_3_20</th>\n",
       "      <th>F_3_21</th>\n",
       "      <th>F_3_22</th>\n",
       "      <th>F_3_23</th>\n",
       "      <th>F_3_24</th>\n",
       "    </tr>\n",
       "  </thead>\n",
       "  <tbody>\n",
       "    <tr>\n",
       "      <th>count</th>\n",
       "      <td>981971.000</td>\n",
       "      <td>981655.000</td>\n",
       "      <td>981944.000</td>\n",
       "      <td>981946.000</td>\n",
       "      <td>981627.000</td>\n",
       "      <td>981702.000</td>\n",
       "      <td>981808.000</td>\n",
       "      <td>981987.000</td>\n",
       "      <td>981902.000</td>\n",
       "      <td>981894.000</td>\n",
       "      <td>981800.000</td>\n",
       "      <td>981612.000</td>\n",
       "      <td>981703.000</td>\n",
       "      <td>981940.000</td>\n",
       "      <td>981861.000</td>\n",
       "      <td>981762.000</td>\n",
       "      <td>981878.000</td>\n",
       "      <td>981722.000</td>\n",
       "      <td>981911.000</td>\n",
       "      <td>981800.000</td>\n",
       "      <td>981752.000</td>\n",
       "      <td>981604.000</td>\n",
       "      <td>981823.000</td>\n",
       "      <td>981794.000</td>\n",
       "      <td>981855.000</td>\n",
       "    </tr>\n",
       "    <tr>\n",
       "      <th>mean</th>\n",
       "      <td>0.002</td>\n",
       "      <td>-0.001</td>\n",
       "      <td>0.001</td>\n",
       "      <td>0.001</td>\n",
       "      <td>0.001</td>\n",
       "      <td>-0.002</td>\n",
       "      <td>0.000</td>\n",
       "      <td>0.002</td>\n",
       "      <td>0.001</td>\n",
       "      <td>-0.000</td>\n",
       "      <td>0.002</td>\n",
       "      <td>0.001</td>\n",
       "      <td>0.000</td>\n",
       "      <td>-0.002</td>\n",
       "      <td>0.001</td>\n",
       "      <td>-0.002</td>\n",
       "      <td>-0.001</td>\n",
       "      <td>-0.000</td>\n",
       "      <td>0.000</td>\n",
       "      <td>-0.065</td>\n",
       "      <td>0.002</td>\n",
       "      <td>-0.059</td>\n",
       "      <td>0.000</td>\n",
       "      <td>0.000</td>\n",
       "      <td>-0.001</td>\n",
       "    </tr>\n",
       "    <tr>\n",
       "      <th>std</th>\n",
       "      <td>1.001</td>\n",
       "      <td>1.000</td>\n",
       "      <td>0.999</td>\n",
       "      <td>1.000</td>\n",
       "      <td>1.000</td>\n",
       "      <td>1.000</td>\n",
       "      <td>0.999</td>\n",
       "      <td>1.001</td>\n",
       "      <td>1.001</td>\n",
       "      <td>1.002</td>\n",
       "      <td>1.000</td>\n",
       "      <td>0.999</td>\n",
       "      <td>1.000</td>\n",
       "      <td>1.000</td>\n",
       "      <td>0.999</td>\n",
       "      <td>1.000</td>\n",
       "      <td>1.000</td>\n",
       "      <td>1.000</td>\n",
       "      <td>1.000</td>\n",
       "      <td>0.739</td>\n",
       "      <td>0.999</td>\n",
       "      <td>0.697</td>\n",
       "      <td>0.999</td>\n",
       "      <td>1.000</td>\n",
       "      <td>1.000</td>\n",
       "    </tr>\n",
       "    <tr>\n",
       "      <th>min</th>\n",
       "      <td>-4.694</td>\n",
       "      <td>-4.466</td>\n",
       "      <td>-4.886</td>\n",
       "      <td>-4.677</td>\n",
       "      <td>-5.009</td>\n",
       "      <td>-4.871</td>\n",
       "      <td>-5.019</td>\n",
       "      <td>-5.053</td>\n",
       "      <td>-5.508</td>\n",
       "      <td>-4.846</td>\n",
       "      <td>-4.626</td>\n",
       "      <td>-4.598</td>\n",
       "      <td>-4.533</td>\n",
       "      <td>-4.747</td>\n",
       "      <td>-5.363</td>\n",
       "      <td>-4.448</td>\n",
       "      <td>-4.822</td>\n",
       "      <td>-4.806</td>\n",
       "      <td>-5.199</td>\n",
       "      <td>-6.069</td>\n",
       "      <td>-4.998</td>\n",
       "      <td>-7.147</td>\n",
       "      <td>-4.741</td>\n",
       "      <td>-5.251</td>\n",
       "      <td>-4.891</td>\n",
       "    </tr>\n",
       "    <tr>\n",
       "      <th>25%</th>\n",
       "      <td>-0.675</td>\n",
       "      <td>-0.675</td>\n",
       "      <td>-0.673</td>\n",
       "      <td>-0.674</td>\n",
       "      <td>-0.673</td>\n",
       "      <td>-0.676</td>\n",
       "      <td>-0.675</td>\n",
       "      <td>-0.673</td>\n",
       "      <td>-0.676</td>\n",
       "      <td>-0.675</td>\n",
       "      <td>-0.672</td>\n",
       "      <td>-0.675</td>\n",
       "      <td>-0.674</td>\n",
       "      <td>-0.676</td>\n",
       "      <td>-0.673</td>\n",
       "      <td>-0.675</td>\n",
       "      <td>-0.675</td>\n",
       "      <td>-0.675</td>\n",
       "      <td>-0.674</td>\n",
       "      <td>-0.507</td>\n",
       "      <td>-0.671</td>\n",
       "      <td>-0.480</td>\n",
       "      <td>-0.674</td>\n",
       "      <td>-0.674</td>\n",
       "      <td>-0.675</td>\n",
       "    </tr>\n",
       "    <tr>\n",
       "      <th>50%</th>\n",
       "      <td>0.003</td>\n",
       "      <td>0.000</td>\n",
       "      <td>0.000</td>\n",
       "      <td>0.001</td>\n",
       "      <td>0.003</td>\n",
       "      <td>-0.002</td>\n",
       "      <td>0.001</td>\n",
       "      <td>0.001</td>\n",
       "      <td>-0.000</td>\n",
       "      <td>-0.002</td>\n",
       "      <td>0.002</td>\n",
       "      <td>0.000</td>\n",
       "      <td>0.002</td>\n",
       "      <td>-0.002</td>\n",
       "      <td>0.000</td>\n",
       "      <td>-0.001</td>\n",
       "      <td>-0.002</td>\n",
       "      <td>-0.000</td>\n",
       "      <td>0.000</td>\n",
       "      <td>0.001</td>\n",
       "      <td>0.002</td>\n",
       "      <td>-0.001</td>\n",
       "      <td>0.000</td>\n",
       "      <td>-0.000</td>\n",
       "      <td>-0.000</td>\n",
       "    </tr>\n",
       "    <tr>\n",
       "      <th>75%</th>\n",
       "      <td>0.677</td>\n",
       "      <td>0.674</td>\n",
       "      <td>0.675</td>\n",
       "      <td>0.676</td>\n",
       "      <td>0.677</td>\n",
       "      <td>0.672</td>\n",
       "      <td>0.673</td>\n",
       "      <td>0.676</td>\n",
       "      <td>0.676</td>\n",
       "      <td>0.674</td>\n",
       "      <td>0.675</td>\n",
       "      <td>0.675</td>\n",
       "      <td>0.674</td>\n",
       "      <td>0.674</td>\n",
       "      <td>0.674</td>\n",
       "      <td>0.674</td>\n",
       "      <td>0.675</td>\n",
       "      <td>0.674</td>\n",
       "      <td>0.675</td>\n",
       "      <td>0.451</td>\n",
       "      <td>0.676</td>\n",
       "      <td>0.428</td>\n",
       "      <td>0.674</td>\n",
       "      <td>0.675</td>\n",
       "      <td>0.674</td>\n",
       "    </tr>\n",
       "    <tr>\n",
       "      <th>max</th>\n",
       "      <td>4.587</td>\n",
       "      <td>4.851</td>\n",
       "      <td>4.763</td>\n",
       "      <td>4.988</td>\n",
       "      <td>4.722</td>\n",
       "      <td>5.039</td>\n",
       "      <td>4.525</td>\n",
       "      <td>5.462</td>\n",
       "      <td>5.107</td>\n",
       "      <td>5.101</td>\n",
       "      <td>5.130</td>\n",
       "      <td>4.685</td>\n",
       "      <td>4.943</td>\n",
       "      <td>4.710</td>\n",
       "      <td>4.820</td>\n",
       "      <td>5.248</td>\n",
       "      <td>4.839</td>\n",
       "      <td>5.058</td>\n",
       "      <td>4.961</td>\n",
       "      <td>2.666</td>\n",
       "      <td>6.032</td>\n",
       "      <td>2.392</td>\n",
       "      <td>4.967</td>\n",
       "      <td>4.809</td>\n",
       "      <td>4.981</td>\n",
       "    </tr>\n",
       "  </tbody>\n",
       "</table>\n",
       "</div>"
      ],
      "text/plain": [
       "           F_3_0      F_3_1      F_3_2      F_3_3      F_3_4      F_3_5  \\\n",
       "count 981971.000 981655.000 981944.000 981946.000 981627.000 981702.000   \n",
       "mean       0.002     -0.001      0.001      0.001      0.001     -0.002   \n",
       "std        1.001      1.000      0.999      1.000      1.000      1.000   \n",
       "min       -4.694     -4.466     -4.886     -4.677     -5.009     -4.871   \n",
       "25%       -0.675     -0.675     -0.673     -0.674     -0.673     -0.676   \n",
       "50%        0.003      0.000      0.000      0.001      0.003     -0.002   \n",
       "75%        0.677      0.674      0.675      0.676      0.677      0.672   \n",
       "max        4.587      4.851      4.763      4.988      4.722      5.039   \n",
       "\n",
       "           F_3_6      F_3_7      F_3_8      F_3_9     F_3_10     F_3_11  \\\n",
       "count 981808.000 981987.000 981902.000 981894.000 981800.000 981612.000   \n",
       "mean       0.000      0.002      0.001     -0.000      0.002      0.001   \n",
       "std        0.999      1.001      1.001      1.002      1.000      0.999   \n",
       "min       -5.019     -5.053     -5.508     -4.846     -4.626     -4.598   \n",
       "25%       -0.675     -0.673     -0.676     -0.675     -0.672     -0.675   \n",
       "50%        0.001      0.001     -0.000     -0.002      0.002      0.000   \n",
       "75%        0.673      0.676      0.676      0.674      0.675      0.675   \n",
       "max        4.525      5.462      5.107      5.101      5.130      4.685   \n",
       "\n",
       "          F_3_12     F_3_13     F_3_14     F_3_15     F_3_16     F_3_17  \\\n",
       "count 981703.000 981940.000 981861.000 981762.000 981878.000 981722.000   \n",
       "mean       0.000     -0.002      0.001     -0.002     -0.001     -0.000   \n",
       "std        1.000      1.000      0.999      1.000      1.000      1.000   \n",
       "min       -4.533     -4.747     -5.363     -4.448     -4.822     -4.806   \n",
       "25%       -0.674     -0.676     -0.673     -0.675     -0.675     -0.675   \n",
       "50%        0.002     -0.002      0.000     -0.001     -0.002     -0.000   \n",
       "75%        0.674      0.674      0.674      0.674      0.675      0.674   \n",
       "max        4.943      4.710      4.820      5.248      4.839      5.058   \n",
       "\n",
       "          F_3_18     F_3_19     F_3_20     F_3_21     F_3_22     F_3_23  \\\n",
       "count 981911.000 981800.000 981752.000 981604.000 981823.000 981794.000   \n",
       "mean       0.000     -0.065      0.002     -0.059      0.000      0.000   \n",
       "std        1.000      0.739      0.999      0.697      0.999      1.000   \n",
       "min       -5.199     -6.069     -4.998     -7.147     -4.741     -5.251   \n",
       "25%       -0.674     -0.507     -0.671     -0.480     -0.674     -0.674   \n",
       "50%        0.000      0.001      0.002     -0.001      0.000     -0.000   \n",
       "75%        0.675      0.451      0.676      0.428      0.674      0.675   \n",
       "max        4.961      2.666      6.032      2.392      4.967      4.809   \n",
       "\n",
       "          F_3_24  \n",
       "count 981855.000  \n",
       "mean      -0.001  \n",
       "std        1.000  \n",
       "min       -4.891  \n",
       "25%       -0.675  \n",
       "50%       -0.000  \n",
       "75%        0.674  \n",
       "max        4.981  "
      ]
     },
     "execution_count": 6,
     "metadata": {},
     "output_type": "execute_result"
    }
   ],
   "source": [
    "data_f3.describe()"
   ]
  },
  {
   "cell_type": "code",
   "execution_count": 7,
   "id": "fb99001a",
   "metadata": {
    "execution": {
     "iopub.execute_input": "2022-06-18T21:07:50.532382Z",
     "iopub.status.busy": "2022-06-18T21:07:50.531446Z",
     "iopub.status.idle": "2022-06-18T21:07:51.485697Z",
     "shell.execute_reply": "2022-06-18T21:07:51.484454Z"
    },
    "papermill": {
     "duration": 0.968537,
     "end_time": "2022-06-18T21:07:51.488488",
     "exception": false,
     "start_time": "2022-06-18T21:07:50.519951",
     "status": "completed"
    },
    "tags": []
   },
   "outputs": [
    {
     "data": {
      "text/html": [
       "<div>\n",
       "<style scoped>\n",
       "    .dataframe tbody tr th:only-of-type {\n",
       "        vertical-align: middle;\n",
       "    }\n",
       "\n",
       "    .dataframe tbody tr th {\n",
       "        vertical-align: top;\n",
       "    }\n",
       "\n",
       "    .dataframe thead th {\n",
       "        text-align: right;\n",
       "    }\n",
       "</style>\n",
       "<table border=\"1\" class=\"dataframe\">\n",
       "  <thead>\n",
       "    <tr style=\"text-align: right;\">\n",
       "      <th></th>\n",
       "      <th>F_4_0</th>\n",
       "      <th>F_4_1</th>\n",
       "      <th>F_4_2</th>\n",
       "      <th>F_4_3</th>\n",
       "      <th>F_4_4</th>\n",
       "      <th>F_4_5</th>\n",
       "      <th>F_4_6</th>\n",
       "      <th>F_4_7</th>\n",
       "      <th>F_4_8</th>\n",
       "      <th>F_4_9</th>\n",
       "      <th>F_4_10</th>\n",
       "      <th>F_4_11</th>\n",
       "      <th>F_4_12</th>\n",
       "      <th>F_4_13</th>\n",
       "      <th>F_4_14</th>\n",
       "    </tr>\n",
       "  </thead>\n",
       "  <tbody>\n",
       "    <tr>\n",
       "      <th>count</th>\n",
       "      <td>981872.000</td>\n",
       "      <td>981836.000</td>\n",
       "      <td>981505.000</td>\n",
       "      <td>981971.000</td>\n",
       "      <td>982043.000</td>\n",
       "      <td>981937.000</td>\n",
       "      <td>981675.000</td>\n",
       "      <td>981986.000</td>\n",
       "      <td>981824.000</td>\n",
       "      <td>981735.000</td>\n",
       "      <td>981775.000</td>\n",
       "      <td>981881.000</td>\n",
       "      <td>981694.000</td>\n",
       "      <td>982005.000</td>\n",
       "      <td>981733.000</td>\n",
       "    </tr>\n",
       "    <tr>\n",
       "      <th>mean</th>\n",
       "      <td>0.327</td>\n",
       "      <td>-0.331</td>\n",
       "      <td>-0.086</td>\n",
       "      <td>-0.195</td>\n",
       "      <td>0.333</td>\n",
       "      <td>0.336</td>\n",
       "      <td>0.004</td>\n",
       "      <td>0.334</td>\n",
       "      <td>-0.072</td>\n",
       "      <td>-0.080</td>\n",
       "      <td>0.038</td>\n",
       "      <td>0.552</td>\n",
       "      <td>0.334</td>\n",
       "      <td>0.330</td>\n",
       "      <td>0.037</td>\n",
       "    </tr>\n",
       "    <tr>\n",
       "      <th>std</th>\n",
       "      <td>2.322</td>\n",
       "      <td>2.406</td>\n",
       "      <td>0.837</td>\n",
       "      <td>0.821</td>\n",
       "      <td>2.374</td>\n",
       "      <td>2.353</td>\n",
       "      <td>2.292</td>\n",
       "      <td>2.359</td>\n",
       "      <td>0.778</td>\n",
       "      <td>0.807</td>\n",
       "      <td>0.707</td>\n",
       "      <td>4.997</td>\n",
       "      <td>2.383</td>\n",
       "      <td>2.364</td>\n",
       "      <td>0.776</td>\n",
       "    </tr>\n",
       "    <tr>\n",
       "      <th>min</th>\n",
       "      <td>-12.878</td>\n",
       "      <td>-12.532</td>\n",
       "      <td>-9.663</td>\n",
       "      <td>-9.942</td>\n",
       "      <td>-12.825</td>\n",
       "      <td>-12.537</td>\n",
       "      <td>-11.132</td>\n",
       "      <td>-11.678</td>\n",
       "      <td>-10.092</td>\n",
       "      <td>-9.864</td>\n",
       "      <td>-10.354</td>\n",
       "      <td>-26.277</td>\n",
       "      <td>-11.524</td>\n",
       "      <td>-10.662</td>\n",
       "      <td>-9.984</td>\n",
       "    </tr>\n",
       "    <tr>\n",
       "      <th>25%</th>\n",
       "      <td>-1.168</td>\n",
       "      <td>-1.962</td>\n",
       "      <td>-0.608</td>\n",
       "      <td>-0.686</td>\n",
       "      <td>-1.191</td>\n",
       "      <td>-1.267</td>\n",
       "      <td>-1.571</td>\n",
       "      <td>-1.224</td>\n",
       "      <td>-0.518</td>\n",
       "      <td>-0.577</td>\n",
       "      <td>-0.386</td>\n",
       "      <td>-2.791</td>\n",
       "      <td>-1.269</td>\n",
       "      <td>-1.299</td>\n",
       "      <td>-0.396</td>\n",
       "    </tr>\n",
       "    <tr>\n",
       "      <th>50%</th>\n",
       "      <td>0.421</td>\n",
       "      <td>-0.356</td>\n",
       "      <td>-0.062</td>\n",
       "      <td>-0.137</td>\n",
       "      <td>0.425</td>\n",
       "      <td>0.303</td>\n",
       "      <td>-0.072</td>\n",
       "      <td>0.379</td>\n",
       "      <td>0.018</td>\n",
       "      <td>-0.028</td>\n",
       "      <td>0.103</td>\n",
       "      <td>0.203</td>\n",
       "      <td>0.354</td>\n",
       "      <td>0.295</td>\n",
       "      <td>0.131</td>\n",
       "    </tr>\n",
       "    <tr>\n",
       "      <th>75%</th>\n",
       "      <td>1.909</td>\n",
       "      <td>1.276</td>\n",
       "      <td>0.485</td>\n",
       "      <td>0.369</td>\n",
       "      <td>1.943</td>\n",
       "      <td>1.918</td>\n",
       "      <td>1.521</td>\n",
       "      <td>1.926</td>\n",
       "      <td>0.475</td>\n",
       "      <td>0.480</td>\n",
       "      <td>0.530</td>\n",
       "      <td>3.646</td>\n",
       "      <td>1.947</td>\n",
       "      <td>1.917</td>\n",
       "      <td>0.574</td>\n",
       "    </tr>\n",
       "    <tr>\n",
       "      <th>max</th>\n",
       "      <td>10.657</td>\n",
       "      <td>11.674</td>\n",
       "      <td>2.909</td>\n",
       "      <td>2.582</td>\n",
       "      <td>11.927</td>\n",
       "      <td>13.540</td>\n",
       "      <td>11.525</td>\n",
       "      <td>12.536</td>\n",
       "      <td>2.607</td>\n",
       "      <td>2.815</td>\n",
       "      <td>2.548</td>\n",
       "      <td>31.229</td>\n",
       "      <td>11.342</td>\n",
       "      <td>11.901</td>\n",
       "      <td>2.584</td>\n",
       "    </tr>\n",
       "  </tbody>\n",
       "</table>\n",
       "</div>"
      ],
      "text/plain": [
       "           F_4_0      F_4_1      F_4_2      F_4_3      F_4_4      F_4_5  \\\n",
       "count 981872.000 981836.000 981505.000 981971.000 982043.000 981937.000   \n",
       "mean       0.327     -0.331     -0.086     -0.195      0.333      0.336   \n",
       "std        2.322      2.406      0.837      0.821      2.374      2.353   \n",
       "min      -12.878    -12.532     -9.663     -9.942    -12.825    -12.537   \n",
       "25%       -1.168     -1.962     -0.608     -0.686     -1.191     -1.267   \n",
       "50%        0.421     -0.356     -0.062     -0.137      0.425      0.303   \n",
       "75%        1.909      1.276      0.485      0.369      1.943      1.918   \n",
       "max       10.657     11.674      2.909      2.582     11.927     13.540   \n",
       "\n",
       "           F_4_6      F_4_7      F_4_8      F_4_9     F_4_10     F_4_11  \\\n",
       "count 981675.000 981986.000 981824.000 981735.000 981775.000 981881.000   \n",
       "mean       0.004      0.334     -0.072     -0.080      0.038      0.552   \n",
       "std        2.292      2.359      0.778      0.807      0.707      4.997   \n",
       "min      -11.132    -11.678    -10.092     -9.864    -10.354    -26.277   \n",
       "25%       -1.571     -1.224     -0.518     -0.577     -0.386     -2.791   \n",
       "50%       -0.072      0.379      0.018     -0.028      0.103      0.203   \n",
       "75%        1.521      1.926      0.475      0.480      0.530      3.646   \n",
       "max       11.525     12.536      2.607      2.815      2.548     31.229   \n",
       "\n",
       "          F_4_12     F_4_13     F_4_14  \n",
       "count 981694.000 982005.000 981733.000  \n",
       "mean       0.334      0.330      0.037  \n",
       "std        2.383      2.364      0.776  \n",
       "min      -11.524    -10.662     -9.984  \n",
       "25%       -1.269     -1.299     -0.396  \n",
       "50%        0.354      0.295      0.131  \n",
       "75%        1.947      1.917      0.574  \n",
       "max       11.342     11.901      2.584  "
      ]
     },
     "execution_count": 7,
     "metadata": {},
     "output_type": "execute_result"
    }
   ],
   "source": [
    "data_f4.describe()"
   ]
  },
  {
   "cell_type": "markdown",
   "id": "9a11c4a9",
   "metadata": {
    "papermill": {
     "duration": 0.010679,
     "end_time": "2022-06-18T21:07:51.510181",
     "exception": false,
     "start_time": "2022-06-18T21:07:51.499502",
     "status": "completed"
    },
    "tags": []
   },
   "source": []
  },
  {
   "cell_type": "markdown",
   "id": "9232c537",
   "metadata": {
    "papermill": {
     "duration": 0.010576,
     "end_time": "2022-06-18T21:07:51.531657",
     "exception": false,
     "start_time": "2022-06-18T21:07:51.521081",
     "status": "completed"
    },
    "tags": []
   },
   "source": [
    "# Hypothesis - values are missing at random"
   ]
  },
  {
   "cell_type": "code",
   "execution_count": 8,
   "id": "f18076a2",
   "metadata": {
    "execution": {
     "iopub.execute_input": "2022-06-18T21:07:51.554426Z",
     "iopub.status.busy": "2022-06-18T21:07:51.553871Z",
     "iopub.status.idle": "2022-06-18T21:07:51.701449Z",
     "shell.execute_reply": "2022-06-18T21:07:51.700293Z"
    },
    "papermill": {
     "duration": 0.162065,
     "end_time": "2022-06-18T21:07:51.704232",
     "exception": false,
     "start_time": "2022-06-18T21:07:51.542167",
     "status": "completed"
    },
    "tags": []
   },
   "outputs": [
    {
     "name": "stdout",
     "output_type": "stream",
     "text": [
      "total missing values: 1000000\n"
     ]
    }
   ],
   "source": [
    "print(f'total missing values: {data.isna().sum().sum()}')"
   ]
  },
  {
   "cell_type": "markdown",
   "id": "9770aed9",
   "metadata": {
    "papermill": {
     "duration": 0.010603,
     "end_time": "2022-06-18T21:07:51.726487",
     "exception": false,
     "start_time": "2022-06-18T21:07:51.715884",
     "status": "completed"
    },
    "tags": []
   },
   "source": [
    "We have 1,000,000 NaNs - 1 per row. So if there are 55 columns with NaNs, our hypothesis is that cells are missing completely at random, with probability $1/55$.\n",
    "\n",
    "Let's look at the correlation between features that have missing values - here we are just looking at correlating missingness, so we replace the values of the features with a missing indicator.\n",
    "\n",
    "Let's also look at correlation of missing values with the values in the F_2 columns, to determine if particular values of those columns induce missingness in the other columns.\n",
    "\n",
    "Conclusion: Missing values don't appear to be correlated with each other, or with the values in the F_2 columns."
   ]
  },
  {
   "cell_type": "code",
   "execution_count": 9,
   "id": "ebe09f30",
   "metadata": {
    "execution": {
     "iopub.execute_input": "2022-06-18T21:07:51.749510Z",
     "iopub.status.busy": "2022-06-18T21:07:51.749092Z",
     "iopub.status.idle": "2022-06-18T21:08:11.648840Z",
     "shell.execute_reply": "2022-06-18T21:08:11.647588Z"
    },
    "papermill": {
     "duration": 19.914343,
     "end_time": "2022-06-18T21:08:11.651425",
     "exception": false,
     "start_time": "2022-06-18T21:07:51.737082",
     "status": "completed"
    },
    "tags": []
   },
   "outputs": [
    {
     "data": {
      "image/png": "[encoded data removed]",
      "text/plain": [
       "<Figure size 720x576 with 2 Axes>"
      ]
     },
     "metadata": {
      "needs_background": "light"
     },
     "output_type": "display_data"
    }
   ],
   "source": [
    "fig, ax = plt.subplots(1, 1, figsize=(10,8))\n",
    "\n",
    "temp = pd.concat([data_f134.isnull().astype(int), data[cols_f2]], axis=1)\n",
    "corr = temp.corr()\n",
    "sns.heatmap(corr, vmin=-1, vmax=1,  cmap='BrBG')\n",
    "\n",
    "plt.show()"
   ]
  },
  {
   "cell_type": "markdown",
   "id": "6427ab60",
   "metadata": {
    "papermill": {
     "duration": 0.011363,
     "end_time": "2022-06-18T21:08:11.674394",
     "exception": false,
     "start_time": "2022-06-18T21:08:11.663031",
     "status": "completed"
    },
    "tags": []
   },
   "source": [
    "# Examine the column distributions\n",
    "\n",
    "If every cell is randomly NaN with probability $1/55$, then we can view each column as a binomial random variable, distributed as $Binom(1000000, 1/55)$\n",
    "\n",
    "Per the binomial distribution, this gives:\n",
    "$$\n",
    "n = 1000000, \\, p=1/55 \\\\\n",
    "\\mu = np = 18181.81818181 \\\\\n",
    "\\sigma^2 = np(1-p) = 17851.23966942 \\\\\n",
    "\\sigma = \\sqrt{\\sigma^2} = 133.60853142\n",
    "$$\n",
    "\n",
    "What do our sample mean and sample variance look like?\n",
    "- obviously the mean matches exactly \n",
    "- the variance/standard deviation seem reasonably close to our hypothesis\n",
    "\n"
   ]
  },
  {
   "cell_type": "code",
   "execution_count": 10,
   "id": "c3a6000b",
   "metadata": {
    "execution": {
     "iopub.execute_input": "2022-06-18T21:08:11.698408Z",
     "iopub.status.busy": "2022-06-18T21:08:11.697714Z",
     "iopub.status.idle": "2022-06-18T21:08:11.817956Z",
     "shell.execute_reply": "2022-06-18T21:08:11.816860Z"
    },
    "papermill": {
     "duration": 0.134985,
     "end_time": "2022-06-18T21:08:11.820305",
     "exception": false,
     "start_time": "2022-06-18T21:08:11.685320",
     "status": "completed"
    },
    "tags": []
   },
   "outputs": [
    {
     "data": {
      "text/plain": [
       "mean   18181.818\n",
       "var    16094.226\n",
       "std      126.863\n",
       "dtype: float64"
      ]
     },
     "execution_count": 10,
     "metadata": {},
     "output_type": "execute_result"
    }
   ],
   "source": [
    "data_f134.isna().sum().agg(['mean', 'var', 'std'])"
   ]
  },
  {
   "cell_type": "markdown",
   "id": "6468b91c",
   "metadata": {
    "papermill": {
     "duration": 0.011133,
     "end_time": "2022-06-18T21:08:11.842586",
     "exception": false,
     "start_time": "2022-06-18T21:08:11.831453",
     "status": "completed"
    },
    "tags": []
   },
   "source": [
    "What does this binomial distribution look like?"
   ]
  },
  {
   "cell_type": "code",
   "execution_count": 11,
   "id": "afefff09",
   "metadata": {
    "execution": {
     "iopub.execute_input": "2022-06-18T21:08:11.867744Z",
     "iopub.status.busy": "2022-06-18T21:08:11.867307Z",
     "iopub.status.idle": "2022-06-18T21:08:12.109539Z",
     "shell.execute_reply": "2022-06-18T21:08:12.108541Z"
    },
    "papermill": {
     "duration": 0.257916,
     "end_time": "2022-06-18T21:08:12.111963",
     "exception": false,
     "start_time": "2022-06-18T21:08:11.854047",
     "status": "completed"
    },
    "tags": []
   },
   "outputs": [
    {
     "data": {
      "image/png": "[encoded data removed]",
      "text/plain": [
       "<Figure size 720x576 with 1 Axes>"
      ]
     },
     "metadata": {
      "needs_background": "light"
     },
     "output_type": "display_data"
    }
   ],
   "source": [
    "p = 1/55\n",
    "n = 1E6\n",
    "\n",
    "rv = binom(n,p)\n",
    "mean, var = rv.stats()\n",
    "mean = mean[()]\n",
    "var = var[()]\n",
    "std = var**.5\n",
    "\n",
    "fig, ax = plt.subplots(1, 1, figsize=(10,8))\n",
    "\n",
    "x = np.arange(binom.ppf(0.005, n, p),\n",
    "              binom.ppf(0.995, n, p))\n",
    "\n",
    "ax.plot(x, binom.pmf(x, n, p), 'bo', ms=5, label='pmf')\n",
    "ax.legend(loc='best', frameon=False)\n",
    "plt.title(f'binom(1E6, 1/55) [mean:{mean:.2f} std:{std:.2f}]')\n",
    "\n",
    "plt.show()\n"
   ]
  },
  {
   "cell_type": "markdown",
   "id": "e2071f6d",
   "metadata": {
    "papermill": {
     "duration": 0.011634,
     "end_time": "2022-06-18T21:08:12.135791",
     "exception": false,
     "start_time": "2022-06-18T21:08:12.124157",
     "status": "completed"
    },
    "tags": []
   },
   "source": [
    "Note this looks normal! When $n$ is large, we can approximate a binomial distribution with a normal distribution.\n",
    "\n",
    "So in our case, we have 55 RVs, which we hypothesize are distributed $N(18181.8181, 17851.2396)$ and standard deviation $133.608$ \n",
    "\n",
    "We expect to see the count of missing values by column clustered around the mean, with a spread of a few hundred (since our standard deviation is $\\approx 133$)\n",
    "\n",
    "Let's plot the missing value counts by column, and also look at a histogram. \n",
    "- We see the values are indeed clustered around the mean.\n",
    "- The histogram doesn't look entirely normal, but remember our sample size here is only 55."
   ]
  },
  {
   "cell_type": "code",
   "execution_count": 12,
   "id": "1a4a85d2",
   "metadata": {
    "execution": {
     "iopub.execute_input": "2022-06-18T21:08:12.161397Z",
     "iopub.status.busy": "2022-06-18T21:08:12.160974Z",
     "iopub.status.idle": "2022-06-18T21:08:12.719582Z",
     "shell.execute_reply": "2022-06-18T21:08:12.718490Z"
    },
    "papermill": {
     "duration": 0.574419,
     "end_time": "2022-06-18T21:08:12.721970",
     "exception": false,
     "start_time": "2022-06-18T21:08:12.147551",
     "status": "completed"
    },
    "tags": []
   },
   "outputs": [
    {
     "data": {
      "image/png": "[encoded data removed]",
      "text/plain": [
       "<Figure size 1008x432 with 2 Axes>"
      ]
     },
     "metadata": {
      "needs_background": "light"
     },
     "output_type": "display_data"
    }
   ],
   "source": [
    "fig, ax = plt.subplots(1, 2, figsize=(14,6))\n",
    "\n",
    "ax[0].set_title(\"NaN column counts\")\n",
    "data_f134.isna().sum().plot(ax=ax[0], ylim=(0,20000))\n",
    "\n",
    "\n",
    "ax[1].set_title(\"NaN column counts - histogram\")\n",
    "na_col_counts = data_f134.isna().sum()\n",
    "na_col_counts.hist(ax=ax[1])\n",
    "\n",
    "plt.show()"
   ]
  },
  {
   "cell_type": "markdown",
   "id": "00d6dc91",
   "metadata": {
    "papermill": {
     "duration": 0.011469,
     "end_time": "2022-06-18T21:08:12.745407",
     "exception": false,
     "start_time": "2022-06-18T21:08:12.733938",
     "status": "completed"
    },
    "tags": []
   },
   "source": [
    "What else can we do to confirm each column is indeed pulled from a normal distribution?\n",
    "\n",
    "Well, if it's normal, we expect ~68% of values to fall within 1-sigma, ~95% within 2-sigma, and ~99.7% within 3-sigma. \n",
    "\n",
    "Looks pretty close!\n"
   ]
  },
  {
   "cell_type": "code",
   "execution_count": 13,
   "id": "2f32d825",
   "metadata": {
    "execution": {
     "iopub.execute_input": "2022-06-18T21:08:12.772380Z",
     "iopub.status.busy": "2022-06-18T21:08:12.771943Z",
     "iopub.status.idle": "2022-06-18T21:08:12.891255Z",
     "shell.execute_reply": "2022-06-18T21:08:12.889399Z"
    },
    "papermill": {
     "duration": 0.135658,
     "end_time": "2022-06-18T21:08:12.894078",
     "exception": false,
     "start_time": "2022-06-18T21:08:12.758420",
     "status": "completed"
    },
    "tags": []
   },
   "outputs": [
    {
     "name": "stdout",
     "output_type": "stream",
     "text": [
      "1-sigma: 0.67\n",
      "2-sigma: 0.98\n",
      "3-sigma: 1.00\n"
     ]
    }
   ],
   "source": [
    "na_row_counts = data_f134.isna().sum(axis=0)\n",
    "\n",
    "for i in range(1,4):\n",
    "    sigma_lb = mean - i * std\n",
    "    sigma_ub = mean + i * std\n",
    "    pct = na_row_counts.between(sigma_lb, sigma_ub).sum() / na_row_counts.size\n",
    "    print(f\"{i}-sigma: {pct:.2f}\")\n"
   ]
  },
  {
   "cell_type": "markdown",
   "id": "d7cc14d3",
   "metadata": {
    "papermill": {
     "duration": 0.011739,
     "end_time": "2022-06-18T21:08:12.917926",
     "exception": false,
     "start_time": "2022-06-18T21:08:12.906187",
     "status": "completed"
    },
    "tags": []
   },
   "source": [
    "_Conclusion_: the column distributions do indeed appear drawn from the same binomial distribution.\n",
    "\n",
    "_Notes_: \n",
    "- I think we could do a t-test on each of the columns vs the population mean.\n",
    "- I think we could do a hypothesis test on the sample variance since the binomial distribution is normal for large $n$\n",
    "\n",
    "# Examine Row Distributions\n",
    "If we examine row distributions, we expect missing values to be distributed $ binom{55, 1/55) $. Note our sample size is now 1000000.\n",
    "\n",
    "For small n, the binomial distribution doesn't look anything like a normal distribution. But since we have such a large sample, we can compare our proportions with the distribution.\n",
    "\n"
   ]
  },
  {
   "cell_type": "code",
   "execution_count": 14,
   "id": "97c5bde1",
   "metadata": {
    "execution": {
     "iopub.execute_input": "2022-06-18T21:08:12.943833Z",
     "iopub.status.busy": "2022-06-18T21:08:12.943358Z",
     "iopub.status.idle": "2022-06-18T21:08:13.426976Z",
     "shell.execute_reply": "2022-06-18T21:08:13.425762Z"
    },
    "papermill": {
     "duration": 0.500223,
     "end_time": "2022-06-18T21:08:13.430138",
     "exception": false,
     "start_time": "2022-06-18T21:08:12.929915",
     "status": "completed"
    },
    "tags": []
   },
   "outputs": [
    {
     "data": {
      "image/png": "[encoded data removed]",
      "text/plain": [
       "<Figure size 1008x432 with 2 Axes>"
      ]
     },
     "metadata": {
      "needs_background": "light"
     },
     "output_type": "display_data"
    }
   ],
   "source": [
    "n = 55\n",
    "\n",
    "fig, ax = plt.subplots(1, 2, figsize=(14,6))\n",
    "\n",
    "x = np.arange(binom.ppf(0.000000001, n, p),\n",
    "              binom.ppf(0.999999999, n, p))\n",
    "\n",
    "# plot the PMF\n",
    "ax[0].plot(x, binom.pmf(x, n, p), 'bo', ms=8)\n",
    "ax[0].set_title(\"PMF - binom(55,1/55)\")\n",
    "\n",
    "# plot the sample proportions\n",
    "proportions = data.isnull().sum(axis=1).value_counts() / 1E6\n",
    "ax[1].plot(proportions, 'r+', ms=8)\n",
    "ax[1].set_title(\"Missing value proportions\")\n",
    "plt.show()"
   ]
  },
  {
   "cell_type": "markdown",
   "id": "08689c6f",
   "metadata": {
    "papermill": {
     "duration": 0.012,
     "end_time": "2022-06-18T21:08:13.454913",
     "exception": false,
     "start_time": "2022-06-18T21:08:13.442913",
     "status": "completed"
    },
    "tags": []
   },
   "source": [
    "Looks like a perfect match!\n",
    "\n",
    "Conclusions:\n",
    "- Missing values appear uncorrelated with each other\n",
    "- Column distributions match expectations\n",
    "- Row distributions match expections\n",
    "- Values are missing completely at random in F1,F3,F4 column groups, with probability $1/55$"
   ]
  },
  {
   "cell_type": "markdown",
   "id": "9449d99f",
   "metadata": {
    "papermill": {
     "duration": 0.011969,
     "end_time": "2022-06-18T21:08:13.479255",
     "exception": false,
     "start_time": "2022-06-18T21:08:13.467286",
     "status": "completed"
    },
    "tags": []
   },
   "source": [
    "# Why does this matter? Testing!\n",
    "\n",
    "So why does this matter? Well, if values are missing completely at random, perhaps we can use the rows with no missing values to synthesis our own test data for imputation. \n",
    "\n",
    "And since we know what the values actually are, we can use the test metric to evaluate our imputation without having to submit to the competition.\n",
    "\n",
    "Also, if using a subset of the data is predictive of the LB score, then our training/evaluation can go faster.\n",
    "\n",
    "So the basic idea is:\n",
    "- use the ~365000 rows with no missing values\n",
    "- randomly generate a set of missing values \n",
    "- run a couple of imputation techniques on this synthetic data\n",
    "- is the delta in performance reflective of the delta in performance on the full dataset / leaderboard?\n"
   ]
  },
  {
   "cell_type": "code",
   "execution_count": 15,
   "id": "40bd2980",
   "metadata": {
    "execution": {
     "iopub.execute_input": "2022-06-18T21:08:13.506556Z",
     "iopub.status.busy": "2022-06-18T21:08:13.505461Z",
     "iopub.status.idle": "2022-06-18T21:08:13.514545Z",
     "shell.execute_reply": "2022-06-18T21:08:13.513833Z"
    },
    "papermill": {
     "duration": 0.025023,
     "end_time": "2022-06-18T21:08:13.516677",
     "exception": false,
     "start_time": "2022-06-18T21:08:13.491654",
     "status": "completed"
    },
    "tags": []
   },
   "outputs": [],
   "source": [
    "def make_training(df, n, p, random_state):\n",
    "    # first find all rows with *no* NaN; sample n rows\n",
    "    df = df[~df.isnull().any(axis=1)]\n",
    "    if n > 0:\n",
    "        df = df.sample(n=n, random_state=random_state)\n",
    "    \n",
    "    # random mask of NaN locations; only cols F_1*, F_3*, F_4*\n",
    "    mask = np.random.random(df[cols_f134].shape) < p\n",
    "    df_na = df[cols_f134].mask(mask)\n",
    "\n",
    "    # put it back together with F_2*\n",
    "    df_na = pd.concat([df_na[cols_f1], df[cols_f2], df_na[cols_f3], df_na[cols_f4]], axis=1)\n",
    "    return df, df_na, df_na.isna().sum().sum()\n",
    "\n",
    "def rmse(df1, df2, n):\n",
    "    sse = (df1.to_numpy() - df2.to_numpy())**2\n",
    "    return (sse.sum()/n)**0.5\n"
   ]
  },
  {
   "cell_type": "markdown",
   "id": "eec204f0",
   "metadata": {
    "papermill": {
     "duration": 0.011697,
     "end_time": "2022-06-18T21:08:13.540622",
     "exception": false,
     "start_time": "2022-06-18T21:08:13.528925",
     "status": "completed"
    },
    "tags": []
   },
   "source": [
    "## Mean Imputer\n",
    "\n",
    "Here we run a sklearn SimpleImputer. I've tested this in the competition with the full dataset\n",
    "- __LB=1.41613__\n",
    "\n",
    "RMSE on our synthetic test set is close!"
   ]
  },
  {
   "cell_type": "code",
   "execution_count": 16,
   "id": "7cd4254f",
   "metadata": {
    "execution": {
     "iopub.execute_input": "2022-06-18T21:08:13.567090Z",
     "iopub.status.busy": "2022-06-18T21:08:13.566100Z",
     "iopub.status.idle": "2022-06-18T21:08:23.028740Z",
     "shell.execute_reply": "2022-06-18T21:08:23.027499Z"
    },
    "papermill": {
     "duration": 9.479008,
     "end_time": "2022-06-18T21:08:23.031817",
     "exception": false,
     "start_time": "2022-06-18T21:08:13.552809",
     "status": "completed"
    },
    "tags": []
   },
   "outputs": [
    {
     "name": "stdout",
     "output_type": "stream",
     "text": [
      "RMSE=1.4115537025905014\n",
      "CPU times: user 8.1 s, sys: 1.41 s, total: 9.51 s\n",
      "Wall time: 9.46 s\n"
     ]
    }
   ],
   "source": [
    "%%time\n",
    "\n",
    "train, train_na, na_count = make_training(data, -1, p, RANDOM_STATE)\n",
    "imputer = SimpleImputer(strategy=\"mean\")\n",
    "train_na[:] = imputer.fit_transform(train_na)\n",
    "print(f'RMSE={rmse(train, train_na, na_count)}')"
   ]
  },
  {
   "cell_type": "markdown",
   "id": "346f8b39",
   "metadata": {
    "papermill": {
     "duration": 0.012515,
     "end_time": "2022-06-18T21:08:23.057759",
     "exception": false,
     "start_time": "2022-06-18T21:08:23.045244",
     "status": "completed"
    },
    "tags": []
   },
   "source": [
    "## Iterative Imputer\n",
    "\n",
    "Here we run sklearn IterativeImputer, restricting to 3 iterations. I've also tested this on the leaderboard:\n",
    "- __LB=0.99623__\n",
    "\n",
    "Once again, RMSE on the synthetic test data is close!"
   ]
  },
  {
   "cell_type": "code",
   "execution_count": 17,
   "id": "4c339dc2",
   "metadata": {
    "execution": {
     "iopub.execute_input": "2022-06-18T21:08:23.084618Z",
     "iopub.status.busy": "2022-06-18T21:08:23.084169Z",
     "iopub.status.idle": "2022-06-18T21:21:38.007766Z",
     "shell.execute_reply": "2022-06-18T21:21:38.006442Z"
    },
    "papermill": {
     "duration": 794.941008,
     "end_time": "2022-06-18T21:21:38.011178",
     "exception": false,
     "start_time": "2022-06-18T21:08:23.070170",
     "status": "completed"
    },
    "tags": []
   },
   "outputs": [
    {
     "name": "stdout",
     "output_type": "stream",
     "text": [
      "[IterativeImputer] Completing matrix with shape (364774, 80)\n",
      "[IterativeImputer] Ending imputation round 1/3, elapsed time 262.09\n",
      "[IterativeImputer] Change: 38.36269199934545, scaled tolerance: 0.029931176 \n",
      "[IterativeImputer] Ending imputation round 2/3, elapsed time 523.10\n",
      "[IterativeImputer] Change: 10.308020460110583, scaled tolerance: 0.029931176 \n",
      "[IterativeImputer] Ending imputation round 3/3, elapsed time 784.42\n",
      "[IterativeImputer] Change: 5.273480070513902, scaled tolerance: 0.029931176 \n"
     ]
    },
    {
     "name": "stderr",
     "output_type": "stream",
     "text": [
      "/opt/conda/lib/python3.7/site-packages/sklearn/impute/_iterative.py:701: ConvergenceWarning: [IterativeImputer] Early stopping criterion not reached.\n",
      "  ConvergenceWarning,\n"
     ]
    },
    {
     "name": "stdout",
     "output_type": "stream",
     "text": [
      "RMSE=0.9997763927289162\n",
      "CPU times: user 36min 12s, sys: 6min 18s, total: 42min 31s\n",
      "Wall time: 13min 14s\n"
     ]
    }
   ],
   "source": [
    "%%time\n",
    "\n",
    "train, train_na, na_count = make_training(data, -1, p, RANDOM_STATE)\n",
    "imputer = IterativeImputer(verbose=2, max_iter=3, random_state=RANDOM_STATE)\n",
    "train_na[:] = imputer.fit_transform(train_na)\n",
    "print(f'RMSE={rmse(train, train_na, na_count)}')"
   ]
  },
  {
   "cell_type": "markdown",
   "id": "e0c240b6",
   "metadata": {
    "papermill": {
     "duration": 0.012461,
     "end_time": "2022-06-18T21:21:38.037658",
     "exception": false,
     "start_time": "2022-06-18T21:21:38.025197",
     "status": "completed"
    },
    "tags": []
   },
   "source": [
    "## Variability\n",
    "\n",
    "Perhaps we just got lucky. Here we'll take 3 folds of 200,000 records from the available data, and compare RMSE of all 3.\n",
    "\n",
    "Results seem pretty pretty consistent. Seems promising."
   ]
  },
  {
   "cell_type": "code",
   "execution_count": 18,
   "id": "cf949a36",
   "metadata": {
    "execution": {
     "iopub.execute_input": "2022-06-18T21:21:38.066987Z",
     "iopub.status.busy": "2022-06-18T21:21:38.066059Z",
     "iopub.status.idle": "2022-06-18T21:43:07.262606Z",
     "shell.execute_reply": "2022-06-18T21:43:07.261375Z"
    },
    "papermill": {
     "duration": 1289.213797,
     "end_time": "2022-06-18T21:43:07.264750",
     "exception": false,
     "start_time": "2022-06-18T21:21:38.050953",
     "status": "completed"
    },
    "tags": []
   },
   "outputs": [
    {
     "name": "stdout",
     "output_type": "stream",
     "text": [
      "[IterativeImputer] Completing matrix with shape (200000, 80)\n",
      "[IterativeImputer] Ending imputation round 1/3, elapsed time 141.67\n",
      "[IterativeImputer] Change: 21.5835593329288, scaled tolerance: 0.029931176 \n",
      "[IterativeImputer] Ending imputation round 2/3, elapsed time 282.33\n",
      "[IterativeImputer] Change: 7.726225765171117, scaled tolerance: 0.029931176 \n",
      "[IterativeImputer] Ending imputation round 3/3, elapsed time 423.99\n",
      "[IterativeImputer] Change: 2.712997717374159, scaled tolerance: 0.029931176 \n"
     ]
    },
    {
     "name": "stderr",
     "output_type": "stream",
     "text": [
      "/opt/conda/lib/python3.7/site-packages/sklearn/impute/_iterative.py:701: ConvergenceWarning: [IterativeImputer] Early stopping criterion not reached.\n",
      "  ConvergenceWarning,\n"
     ]
    },
    {
     "name": "stdout",
     "output_type": "stream",
     "text": [
      "RMSE=0.984448841585532\n",
      "[IterativeImputer] Completing matrix with shape (200000, 80)\n",
      "[IterativeImputer] Ending imputation round 1/3, elapsed time 141.27\n",
      "[IterativeImputer] Change: 27.75915955380318, scaled tolerance: 0.029931176 \n",
      "[IterativeImputer] Ending imputation round 2/3, elapsed time 281.98\n",
      "[IterativeImputer] Change: 9.071244163754972, scaled tolerance: 0.029931176 \n",
      "[IterativeImputer] Ending imputation round 3/3, elapsed time 422.96\n",
      "[IterativeImputer] Change: 3.425432806078268, scaled tolerance: 0.029931176 \n"
     ]
    },
    {
     "name": "stderr",
     "output_type": "stream",
     "text": [
      "/opt/conda/lib/python3.7/site-packages/sklearn/impute/_iterative.py:701: ConvergenceWarning: [IterativeImputer] Early stopping criterion not reached.\n",
      "  ConvergenceWarning,\n"
     ]
    },
    {
     "name": "stdout",
     "output_type": "stream",
     "text": [
      "RMSE=0.9915785339406507\n",
      "[IterativeImputer] Completing matrix with shape (200000, 80)\n",
      "[IterativeImputer] Ending imputation round 1/3, elapsed time 141.76\n",
      "[IterativeImputer] Change: 28.086467057053916, scaled tolerance: 0.029931176 \n",
      "[IterativeImputer] Ending imputation round 2/3, elapsed time 283.32\n",
      "[IterativeImputer] Change: 8.104075394288934, scaled tolerance: 0.029931176 \n",
      "[IterativeImputer] Ending imputation round 3/3, elapsed time 424.21\n",
      "[IterativeImputer] Change: 2.901162118272516, scaled tolerance: 0.029931176 \n"
     ]
    },
    {
     "name": "stderr",
     "output_type": "stream",
     "text": [
      "/opt/conda/lib/python3.7/site-packages/sklearn/impute/_iterative.py:701: ConvergenceWarning: [IterativeImputer] Early stopping criterion not reached.\n",
      "  ConvergenceWarning,\n"
     ]
    },
    {
     "name": "stdout",
     "output_type": "stream",
     "text": [
      "RMSE=0.9932412325031404\n",
      "RMSE mean over folds: 0.9897562026764412\n"
     ]
    }
   ],
   "source": [
    "imputer = IterativeImputer(verbose=2, max_iter=3, random_state=RANDOM_STATE)\n",
    "rmses = []\n",
    "for i in range(3):\n",
    "    train, train_na, na_count = make_training(data, 200000, p, RANDOM_STATE)\n",
    "    train_na[:] = imputer.fit_transform(train_na)\n",
    "    rmses.append(rmse(train, train_na, na_count))\n",
    "    print(f'RMSE={rmses[i]}')\n",
    "print(f'RMSE mean over folds: {np.mean(rmses)}')"
   ]
  },
  {
   "cell_type": "markdown",
   "id": "d0a2da15",
   "metadata": {
    "papermill": {
     "duration": 0.015256,
     "end_time": "2022-06-18T21:43:07.294796",
     "exception": false,
     "start_time": "2022-06-18T21:43:07.279540",
     "status": "completed"
    },
    "tags": []
   },
   "source": [
    "# Conclusions\n",
    "\n",
    "- Values are missing completely at random in column groups F1, F3, F4, with probability $1/55$\n",
    "- We can create synthetic test data by randomizing missing values in the complete records of the full dataset\n",
    "- This synthetic test data produces evaluation results that seem a good proxy for the full dataset results on the leaderboard\n",
    "\n"
   ]
  }
 ],
 "metadata": {
  "kernelspec": {
   "display_name": "Python 3 (ipykernel)",
   "language": "python",
   "name": "python3"
  },
  "language_info": {
   "codemirror_mode": {
    "name": "ipython",
    "version": 3
   },
   "file_extension": ".py",
   "mimetype": "text/x-python",
   "name": "python",
   "nbconvert_exporter": "python",
   "pygments_lexer": "ipython3",
   "version": "3.9.12"
  },
  "papermill": {
   "default_parameters": {},
   "duration": 2155.163204,
   "end_time": "2022-06-18T21:43:08.339755",
   "environment_variables": {},
   "exception": null,
   "input_path": "__notebook__.ipynb",
   "output_path": "__notebook__.ipynb",
   "parameters": {},
   "start_time": "2022-06-18T21:07:13.176551",
   "version": "2.3.4"
  }
 },
 "nbformat": 4,
 "nbformat_minor": 5
}
